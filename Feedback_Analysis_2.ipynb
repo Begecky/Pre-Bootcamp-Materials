{
 "cells": [
  {
   "cell_type": "code",
   "execution_count": 13,
   "metadata": {
    "collapsed": true
   },
   "outputs": [],
   "source": [
    "import numpy as np\n",
    "import pandas as pd\n",
    "import seaborn as sns\n",
    "import matplotlib as mpl\n",
    "import matplotlib.pyplot as plt\n",
    "import re\n",
    "import sklearn\n",
    "%matplotlib inline"
   ]
  },
  {
   "cell_type": "code",
   "execution_count": 46,
   "metadata": {},
   "outputs": [
    {
     "data": {
      "text/plain": [
       "(748, 2)"
      ]
     },
     "execution_count": 46,
     "metadata": {},
     "output_type": "execute_result"
    }
   ],
   "source": [
    "text = pd.read_table(\"imdb_labelled.txt\", sep = '\\t', names = ['Review', 'Rating'])\n",
    "amazon = pd.read_table(\"amazon_cells_labelled.txt\", sep = '\\t', names = ['Review', 'Rating'])\n",
    "yelp = pd.read_table(\"yelp_labelled.txt\", sep = '\\t', names = ['Review', 'Rating'])\n",
    "text.shape"
   ]
  },
  {
   "cell_type": "code",
   "execution_count": 15,
   "metadata": {
    "collapsed": true
   },
   "outputs": [],
   "source": [
    "# Creating the keyword lists:\n",
    "\n",
    "positive_keywords = ['love', 'liked', 'best', 'great', 'incredible', 'beautiful', 'cool', 'wonderful']\n",
    "#negative_keywords = ['terrible', 'hated', 'bad', 'too', 'awful', 'slow', 'bore', 'boring']"
   ]
  },
  {
   "cell_type": "code",
   "execution_count": 16,
   "metadata": {
    "collapsed": true
   },
   "outputs": [],
   "source": [
    "# Applying those lists to the text of the reviews:\n",
    "\n",
    "for key in positive_keywords:\n",
    "    text[str(key)] = text.Review.str.contains(\n",
    "    ' ' + str(key) + ' ',\n",
    "        case = False)\n",
    "    \n",
    "# for key in negative_keywords:\n",
    "#     text[str(key)] = text.Review.str.contains(\n",
    "#     ' ' + str(key) + ' ',\n",
    "#         case = False)"
   ]
  },
  {
   "cell_type": "code",
   "execution_count": 17,
   "metadata": {
    "collapsed": true
   },
   "outputs": [],
   "source": [
    "# Changing the Rating column so it contains boolean values:\n",
    "\n",
    "text['Rating'] = (text['Rating'] == 1)"
   ]
  },
  {
   "cell_type": "code",
   "execution_count": 18,
   "metadata": {
    "collapsed": true
   },
   "outputs": [],
   "source": [
    "# Setting the data and target columns:\n",
    "\n",
    "data = text[positive_keywords]\n",
    "target = text['Rating']"
   ]
  },
  {
   "cell_type": "code",
   "execution_count": 19,
   "metadata": {},
   "outputs": [
    {
     "data": {
      "image/png": "[encoded data removed]",
      "text/plain": [
       "<matplotlib.figure.Figure at 0x11035a240>"
      ]
     },
     "metadata": {},
     "output_type": "display_data"
    }
   ],
   "source": [
    "sns.heatmap(text.corr())\n",
    "plt.show()"
   ]
  },
  {
   "cell_type": "code",
   "execution_count": 30,
   "metadata": {},
   "outputs": [
    {
     "name": "stdout",
     "output_type": "stream",
     "text": [
      "Number of total columns: 748.  Number of mislabeled columns: 329\n"
     ]
    }
   ],
   "source": [
    "from sklearn.naive_bayes import BernoulliNB\n",
    "\n",
    "bnb = BernoulliNB()\n",
    "\n",
    "bnb.fit(data, target)\n",
    "\n",
    "y_pred = bnb.predict(data)\n",
    "\n",
    "print(\"Number of total columns: {}.  Number of mislabeled columns: {}\".format(\n",
    "        data.shape[0],\n",
    "        (target != y_pred).sum()))"
   ]
  },
  {
   "cell_type": "code",
   "execution_count": 35,
   "metadata": {},
   "outputs": [],
   "source": [
    "TN = ((text['Rating'] == False) & (y_pred == False)).sum()\n",
    "FP = ((text['Rating'] == False) & (y_pred == True)).sum()\n",
    "TP = ((text['Rating'] == True) & (y_pred == True)).sum()\n",
    "FN = ((text['Rating'] == True) & (y_pred == False)).sum()"
   ]
  },
  {
   "cell_type": "code",
   "execution_count": 40,
   "metadata": {},
   "outputs": [
    {
     "data": {
      "text/plain": [
       "[[350, 12], [317, 69]]"
      ]
     },
     "execution_count": 40,
     "metadata": {},
     "output_type": "execute_result"
    }
   ],
   "source": [
    "matrix = [[TN, FP],\n",
    "           [FN, TP]]\n",
    "matrix"
   ]
  },
  {
   "cell_type": "code",
   "execution_count": 38,
   "metadata": {},
   "outputs": [
    {
     "data": {
      "text/plain": [
       "array([[350,  12],\n",
       "       [317,  69]])"
      ]
     },
     "execution_count": 38,
     "metadata": {},
     "output_type": "execute_result"
    }
   ],
   "source": [
    "from sklearn.metrics import confusion_matrix\n",
    "confusion_matrix(target, y_pred)"
   ]
  },
  {
   "cell_type": "code",
   "execution_count": 54,
   "metadata": {},
   "outputs": [
    {
     "name": "stdout",
     "output_type": "stream",
     "text": [
      "The Sensitivity is 17.88%. The Specificity is 96.69%.\n"
     ]
    }
   ],
   "source": [
    "# Percentage of positives correctly identified:\n",
    "\n",
    "sensitivity = (TP/(FN+TP))\n",
    "# Percentage of negatives correctly identified:\n",
    "\n",
    "specificity = (TN/(TN+FP))\n",
    "\n",
    "print(\"The Sensitivity is {:.2%}. The Specificity is {:.2%}.\".format(sensitivity, specificity))"
   ]
  },
  {
   "cell_type": "code",
   "execution_count": 51,
   "metadata": {},
   "outputs": [
    {
     "data": {
      "text/plain": [
       "True     386\n",
       "False    362\n",
       "Name: Rating, dtype: int64"
      ]
     },
     "execution_count": 51,
     "metadata": {},
     "output_type": "execute_result"
    }
   ],
   "source": [
    "target.value_counts()"
   ]
  },
  {
   "cell_type": "code",
   "execution_count": null,
   "metadata": {
    "collapsed": true
   },
   "outputs": [],
   "source": []
  }
 ],
 "metadata": {
  "kernelspec": {
   "display_name": "Python 3",
   "language": "python",
   "name": "python3"
  },
  "language_info": {
   "codemirror_mode": {
    "name": "ipython",
    "version": 3
   },
   "file_extension": ".py",
   "mimetype": "text/x-python",
   "name": "python",
   "nbconvert_exporter": "python",
   "pygments_lexer": "ipython3",
   "version": "3.6.2"
  }
 },
 "nbformat": 4,
 "nbformat_minor": 2
}
