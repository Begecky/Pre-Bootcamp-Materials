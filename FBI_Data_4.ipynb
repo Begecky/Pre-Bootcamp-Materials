{
 "cells": [
  {
   "cell_type": "code",
   "execution_count": 1,
   "metadata": {},
   "outputs": [
    {
     "name": "stderr",
     "output_type": "stream",
     "text": [
      "/usr/local/lib/python3.7/site-packages/sklearn/utils/__init__.py:4: DeprecationWarning: Using or importing the ABCs from 'collections' instead of from 'collections.abc' is deprecated, and in 3.8 it will stop working\n",
      "  from collections import Sequence\n"
     ]
    }
   ],
   "source": [
    "import math\n",
    "\n",
    "import pandas as pd\n",
    "import matplotlib as mpl\n",
    "import matplotlib.pyplot as plt\n",
    "import sklearn as skl\n",
    "from sklearn.model_selection import cross_val_score\n",
    "from sklearn import linear_model\n",
    "import numpy as np\n",
    "import seaborn as sns\n",
    "import statsmodels.formula.api as smf\n",
    "from statsmodels.sandbox.regression.predstd import wls_prediction_std\n",
    "\n",
    "%matplotlib inline\n",
    "\n",
    "import warnings\n",
    "warnings.filterwarnings(action=\"ignore\", module=\"scipy\", message=\"^internal gelsd\")"
   ]
  },
  {
   "cell_type": "code",
   "execution_count": 2,
   "metadata": {},
   "outputs": [],
   "source": [
    "# Importing and Cleaning:\n",
    "\n",
    "data = pd.read_excel(\"new_york_2013.xls\", index_col = \"Table 8\", skiprows = [1, 2, 3, 4], skipfooter = 3)\n",
    "\n",
    "data = data.rename(columns = {'Unnamed: 1': 'Population', 'Unnamed: 2': 'Violent_Crime', 'Unnamed: 3': 'Murder',\n",
    "                       'Unnamed: 4': 'Rape_1', 'Unnamed: 5': 'Rape_2', 'Unnamed: 6': 'Robbery',\n",
    "                       'Unnamed: 7': 'Agg_Assault', 'Unnamed: 8': 'Prop_Crime', 'Unnamed: 9': 'Burglary',\n",
    "                       'Unnamed: 10': 'Larceny_Theft', 'Unnamed: 11': 'Vehicle_Theft', 'Unnamed: 12': 'Arson'})"
   ]
  },
  {
   "cell_type": "code",
   "execution_count": 3,
   "metadata": {},
   "outputs": [],
   "source": [
    "# Feature Engineering: (Also had to manipulate data_2 a bit because of a 'copy error')\n",
    "\n",
    "data_2 = pd.DataFrame(data[['Population', 'Murder', 'Robbery', 'Prop_Crime']])\n",
    "\n",
    "data_2['Cat_Murder'] = data_2.Murder > 0\n",
    "data_2['Cat_Robbery'] = data_2.Robbery > 0\n",
    "data_2['Population*2'] = data_2.Population**2\n",
    "data_2['Mrdr_per_Capita'] = (data_2.Murder / data_2.Population)*5000\n",
    "data_2['Rob_per_Capita'] = (data_2.Robbery / data_2.Population)*5000\n",
    "data_2['PropCrime_per_Capita'] = (data_2.Prop_Crime / data_2.Population)*5000\n"
   ]
  },
  {
   "cell_type": "markdown",
   "metadata": {},
   "source": [
    "### First Model"
   ]
  },
  {
   "cell_type": "code",
   "execution_count": 4,
   "metadata": {},
   "outputs": [],
   "source": [
    "no_robberies = pd.DataFrame(data_2[data_2['Robbery'] == 0])\n",
    "robberies_sm = pd.DataFrame(data_2[(data_2['Robbery'] >= 1) & (data_2['Population'] <= 100000)])\n",
    "robberies_lg = pd.DataFrame(data_2[(data_2['Robbery'] >= 1) & (data_2['Population'] >= 100000)])"
   ]
  },
  {
   "cell_type": "code",
   "execution_count": 5,
   "metadata": {},
   "outputs": [],
   "source": [
    "model = pd.concat([no_robberies, robberies_sm, robberies_lg])"
   ]
  },
  {
   "cell_type": "code",
   "execution_count": 6,
   "metadata": {},
   "outputs": [
    {
     "data": {
      "text/html": [
       "<div>\n",
       "<style scoped>\n",
       "    .dataframe tbody tr th:only-of-type {\n",
       "        vertical-align: middle;\n",
       "    }\n",
       "\n",
       "    .dataframe tbody tr th {\n",
       "        vertical-align: top;\n",
       "    }\n",
       "\n",
       "    .dataframe thead th {\n",
       "        text-align: right;\n",
       "    }\n",
       "</style>\n",
       "<table border=\"1\" class=\"dataframe\">\n",
       "  <thead>\n",
       "    <tr style=\"text-align: right;\">\n",
       "      <th></th>\n",
       "      <th>Population</th>\n",
       "      <th>Murder</th>\n",
       "      <th>Robbery</th>\n",
       "      <th>Prop_Crime</th>\n",
       "      <th>Population*2</th>\n",
       "      <th>Mrdr_per_Capita</th>\n",
       "      <th>Rob_per_Capita</th>\n",
       "      <th>PropCrime_per_Capita</th>\n",
       "    </tr>\n",
       "  </thead>\n",
       "  <tbody>\n",
       "    <tr>\n",
       "      <th>count</th>\n",
       "      <td>3.480000e+02</td>\n",
       "      <td>348.000000</td>\n",
       "      <td>348.000000</td>\n",
       "      <td>348.000000</td>\n",
       "      <td>3.480000e+02</td>\n",
       "      <td>348.000000</td>\n",
       "      <td>348.000000</td>\n",
       "      <td>348.000000</td>\n",
       "    </tr>\n",
       "    <tr>\n",
       "      <th>mean</th>\n",
       "      <td>4.003763e+04</td>\n",
       "      <td>1.566092</td>\n",
       "      <td>72.902299</td>\n",
       "      <td>792.606322</td>\n",
       "      <td>2.035547e+11</td>\n",
       "      <td>0.055101</td>\n",
       "      <td>1.883793</td>\n",
       "      <td>97.404954</td>\n",
       "    </tr>\n",
       "    <tr>\n",
       "      <th>std</th>\n",
       "      <td>4.500374e+05</td>\n",
       "      <td>18.303673</td>\n",
       "      <td>1031.032873</td>\n",
       "      <td>7659.724746</td>\n",
       "      <td>3.778876e+12</td>\n",
       "      <td>0.174159</td>\n",
       "      <td>3.579952</td>\n",
       "      <td>72.995665</td>\n",
       "    </tr>\n",
       "    <tr>\n",
       "      <th>min</th>\n",
       "      <td>5.260000e+02</td>\n",
       "      <td>0.000000</td>\n",
       "      <td>0.000000</td>\n",
       "      <td>0.000000</td>\n",
       "      <td>2.766760e+05</td>\n",
       "      <td>0.000000</td>\n",
       "      <td>0.000000</td>\n",
       "      <td>0.000000</td>\n",
       "    </tr>\n",
       "    <tr>\n",
       "      <th>25%</th>\n",
       "      <td>3.003000e+03</td>\n",
       "      <td>0.000000</td>\n",
       "      <td>0.000000</td>\n",
       "      <td>40.500000</td>\n",
       "      <td>9.018117e+06</td>\n",
       "      <td>0.000000</td>\n",
       "      <td>0.000000</td>\n",
       "      <td>45.521000</td>\n",
       "    </tr>\n",
       "    <tr>\n",
       "      <th>50%</th>\n",
       "      <td>7.233500e+03</td>\n",
       "      <td>0.000000</td>\n",
       "      <td>1.000000</td>\n",
       "      <td>112.500000</td>\n",
       "      <td>5.232568e+07</td>\n",
       "      <td>0.000000</td>\n",
       "      <td>0.736432</td>\n",
       "      <td>80.051048</td>\n",
       "    </tr>\n",
       "    <tr>\n",
       "      <th>75%</th>\n",
       "      <td>1.842750e+04</td>\n",
       "      <td>0.000000</td>\n",
       "      <td>5.000000</td>\n",
       "      <td>341.000000</td>\n",
       "      <td>3.397536e+08</td>\n",
       "      <td>0.000000</td>\n",
       "      <td>2.229189</td>\n",
       "      <td>128.603221</td>\n",
       "    </tr>\n",
       "    <tr>\n",
       "      <th>max</th>\n",
       "      <td>8.396126e+06</td>\n",
       "      <td>335.000000</td>\n",
       "      <td>19170.000000</td>\n",
       "      <td>141971.000000</td>\n",
       "      <td>7.049493e+13</td>\n",
       "      <td>1.137176</td>\n",
       "      <td>26.250394</td>\n",
       "      <td>618.120237</td>\n",
       "    </tr>\n",
       "  </tbody>\n",
       "</table>\n",
       "</div>"
      ],
      "text/plain": [
       "         Population      Murder       Robbery     Prop_Crime  Population*2  \\\n",
       "count  3.480000e+02  348.000000    348.000000     348.000000  3.480000e+02   \n",
       "mean   4.003763e+04    1.566092     72.902299     792.606322  2.035547e+11   \n",
       "std    4.500374e+05   18.303673   1031.032873    7659.724746  3.778876e+12   \n",
       "min    5.260000e+02    0.000000      0.000000       0.000000  2.766760e+05   \n",
       "25%    3.003000e+03    0.000000      0.000000      40.500000  9.018117e+06   \n",
       "50%    7.233500e+03    0.000000      1.000000     112.500000  5.232568e+07   \n",
       "75%    1.842750e+04    0.000000      5.000000     341.000000  3.397536e+08   \n",
       "max    8.396126e+06  335.000000  19170.000000  141971.000000  7.049493e+13   \n",
       "\n",
       "       Mrdr_per_Capita  Rob_per_Capita  PropCrime_per_Capita  \n",
       "count       348.000000      348.000000            348.000000  \n",
       "mean          0.055101        1.883793             97.404954  \n",
       "std           0.174159        3.579952             72.995665  \n",
       "min           0.000000        0.000000              0.000000  \n",
       "25%           0.000000        0.000000             45.521000  \n",
       "50%           0.000000        0.736432             80.051048  \n",
       "75%           0.000000        2.229189            128.603221  \n",
       "max           1.137176       26.250394            618.120237  "
      ]
     },
     "execution_count": 6,
     "metadata": {},
     "output_type": "execute_result"
    }
   ],
   "source": [
    "data_2.describe()"
   ]
  },
  {
   "cell_type": "code",
   "execution_count": 7,
   "metadata": {},
   "outputs": [],
   "source": [
    "# Classifying the Data:\n",
    "\n",
    "for x in model:\n",
    "    model['Actual'] = (((model['Robbery'] == 0) & (model['PropCrime_per_Capita'] <= 79)) |\n",
    "                       ((model['Robbery'] <= 11) & (model['Robbery'] >= 1)  & (model['PropCrime_per_Capita'] >= 164)) |\n",
    "                       ((model['Robbery'] >= 12) & (model['PropCrime_per_Capita'] <= 241)))"
   ]
  },
  {
   "cell_type": "code",
   "execution_count": 8,
   "metadata": {
    "scrolled": true
   },
   "outputs": [],
   "source": [
    "# First Model:\n",
    "\n",
    "for x in model:\n",
    "    model['Test_1'] = (((model['Robbery'] == 0) & (model['PropCrime_per_Capita'] <= 45)) |\n",
    "                       ((model['Robbery'] <= 4) & (model['Robbery'] >= 1)  & (model['PropCrime_per_Capita'] >= 151)) |\n",
    "                       ((model['Robbery'] <= 5) & (model['Robbery'] >= 11)  & (model['PropCrime_per_Capita'] >= 300)) |\n",
    "                       ((model['Robbery'] >= 11) & (model['PropCrime_per_Capita'] <= 150)) |\n",
    "                       ((model['Robbery'] >= 600) & (model['PropCrime_per_Capita'] >= 150)))"
   ]
  },
  {
   "cell_type": "markdown",
   "metadata": {},
   "source": [
    "#### Validating the Model"
   ]
  },
  {
   "cell_type": "code",
   "execution_count": 9,
   "metadata": {},
   "outputs": [],
   "source": [
    "x = data_2.Population/100\n",
    "lin_form = 'Prop_Crime ~ Robbery*x'\n",
    "\n",
    "lm = smf.ols(formula = lin_form, data = data_2).fit()"
   ]
  },
  {
   "cell_type": "code",
   "execution_count": 10,
   "metadata": {},
   "outputs": [
    {
     "name": "stdout",
     "output_type": "stream",
     "text": [
      "Parameters: Intercept    33.632744\n",
      "Robbery       6.978783\n",
      "x             1.435682\n",
      "Robbery:x    -0.000070\n",
      "dtype: float64\n",
      "P-Values: Intercept    9.615761e-02\n",
      "Robbery      2.018976e-76\n",
      "x            3.449308e-36\n",
      "Robbery:x    4.017653e-65\n",
      "dtype: float64\n",
      "R-squared: 0.9985148599885865\n"
     ]
    }
   ],
   "source": [
    "print(\"Parameters: {}\".format(lm.params))\n",
    "print(\"P-Values: {}\".format(lm.pvalues))\n",
    "print(\"R-squared: {}\".format(lm.rsquared))"
   ]
  },
  {
   "cell_type": "markdown",
   "metadata": {},
   "source": [
    "### Using it on another test set"
   ]
  },
  {
   "cell_type": "code",
   "execution_count": 11,
   "metadata": {},
   "outputs": [],
   "source": [
    "cali_data = pd.read_excel(\"california_2013.xls\", index_col = \"Table 8\", skiprows = [1, 2, 3, 4], skipfooter = 3)"
   ]
  },
  {
   "cell_type": "code",
   "execution_count": 12,
   "metadata": {},
   "outputs": [],
   "source": [
    "cali_data = cali_data.rename(columns = {'Unnamed: 1': 'Population', 'Unnamed: 2': 'Violent_Crime', 'Unnamed: 3': 'Murder',\n",
    "                       'Unnamed: 4': 'Rape_1', 'Unnamed: 5': 'Rape_2', 'Unnamed: 6': 'Robbery',\n",
    "                       'Unnamed: 7': 'Agg_Assault', 'Unnamed: 8': 'Prop_Crime', 'Unnamed: 9': 'Burglary',\n",
    "                       'Unnamed: 10': 'Larceny_Theft', 'Unnamed: 11': 'Vehicle_Theft', 'Unnamed: 12': 'Arson'})\n",
    "\n",
    "cali_data = cali_data[['Population', 'Murder', 'Robbery', 'Prop_Crime']]"
   ]
  },
  {
   "cell_type": "code",
   "execution_count": 13,
   "metadata": {},
   "outputs": [],
   "source": [
    "y = cali_data.Population/100\n",
    "lin_form = 'Prop_Crime ~ Robbery*y'\n",
    "\n",
    "lm2 = smf.ols(formula = lin_form, data = cali_data).fit()"
   ]
  },
  {
   "cell_type": "code",
   "execution_count": 14,
   "metadata": {},
   "outputs": [
    {
     "name": "stdout",
     "output_type": "stream",
     "text": [
      "Parameters: Intercept   -65.392578\n",
      "Robbery       5.831921\n",
      "y             2.151199\n",
      "Robbery:y    -0.000140\n",
      "dtype: float64\n",
      "P-Values: Intercept     2.246368e-01\n",
      "Robbery      2.424456e-117\n",
      "y            1.644232e-136\n",
      "Robbery:y     4.484968e-58\n",
      "dtype: float64\n",
      "R-squared: 0.9683705689326801\n"
     ]
    }
   ],
   "source": [
    "print(\"Parameters: {}\".format(lm2.params))\n",
    "print(\"P-Values: {}\".format(lm2.pvalues))\n",
    "print(\"R-squared: {}\".format(lm2.rsquared))"
   ]
  },
  {
   "cell_type": "markdown",
   "metadata": {},
   "source": [
    "### Trying to tighten the model up a bit:"
   ]
  },
  {
   "cell_type": "code",
   "execution_count": 19,
   "metadata": {},
   "outputs": [],
   "source": [
    "z = cali_data.Population/500\n",
    "lin_form3 = 'Prop_Crime ~ Robbery*z'\n",
    "lm3 = smf.ols(formula = lin_form3, data = cali_data).fit()"
   ]
  },
  {
   "cell_type": "code",
   "execution_count": 20,
   "metadata": {},
   "outputs": [
    {
     "name": "stdout",
     "output_type": "stream",
     "text": [
      "Parameters: Intercept   -65.392578\n",
      "Robbery       5.831921\n",
      "z            10.755994\n",
      "Robbery:z    -0.000702\n",
      "dtype: float64\n",
      "P-Values: Intercept     2.246368e-01\n",
      "Robbery      2.424456e-117\n",
      "z            1.644232e-136\n",
      "Robbery:z     4.484968e-58\n",
      "dtype: float64\n",
      "R-squared: 0.9683705689326803\n"
     ]
    }
   ],
   "source": [
    "print(\"Parameters: {}\".format(lm3.params))\n",
    "print(\"P-Values: {}\".format(lm3.pvalues))\n",
    "print(\"R-squared: {}\".format(lm3.rsquared))"
   ]
  },
  {
   "cell_type": "markdown",
   "metadata": {},
   "source": [
    "Here, I tried to change the number dividing the population (in the hopes of predicting Poperty Crime as a ratio between Robbery and Population, but the change in the resulting P-values are very very small.  Too small for us to notice unless you look hard at the decimals on the far right hand side.  As such, it looks like you would need to find a parameter that has some stronger correspondence."
   ]
  },
  {
   "cell_type": "code",
   "execution_count": null,
   "metadata": {},
   "outputs": [],
   "source": []
  }
 ],
 "metadata": {
  "kernelspec": {
   "display_name": "Python 3",
   "language": "python",
   "name": "python3"
  },
  "language_info": {
   "codemirror_mode": {
    "name": "ipython",
    "version": 3
   },
   "file_extension": ".py",
   "mimetype": "text/x-python",
   "name": "python",
   "nbconvert_exporter": "python",
   "pygments_lexer": "ipython3",
   "version": "3.7.0"
  }
 },
 "nbformat": 4,
 "nbformat_minor": 2
}
