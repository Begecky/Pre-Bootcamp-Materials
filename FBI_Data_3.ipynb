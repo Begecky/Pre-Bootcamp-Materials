{
 "cells": [
  {
   "cell_type": "markdown",
   "metadata": {},
   "source": [
    "## Data Exploration"
   ]
  },
  {
   "cell_type": "code",
   "execution_count": 44,
   "metadata": {},
   "outputs": [],
   "source": [
    "import pandas as pd\n",
    "import matplotlib as mpl\n",
    "import matplotlib.pyplot as plt\n",
    "import sklearn\n",
    "import numpy as np\n",
    "import seaborn as sns\n",
    "%matplotlib inline\n",
    "\n",
    "import warnings\n",
    "warnings.filterwarnings(action=\"ignore\", module=\"scipy\", message=\"^internal gelsd\")"
   ]
  },
  {
   "cell_type": "code",
   "execution_count": 45,
   "metadata": {},
   "outputs": [],
   "source": [
    "# Importing and Cleaning:\n",
    "\n",
    "data = pd.read_excel(\"new_york_2013.xls\", index_col = \"Table 8\", skiprows = [1, 2, 3, 4], skipfooter = 3)\n",
    "\n",
    "data = data.rename(columns = {'Unnamed: 1': 'Population', 'Unnamed: 2': 'Violent_Crime', 'Unnamed: 3': 'Murder',\n",
    "                       'Unnamed: 4': 'Rape_1', 'Unnamed: 5': 'Rape_2', 'Unnamed: 6': 'Robbery',\n",
    "                       'Unnamed: 7': 'Agg_Assault', 'Unnamed: 8': 'Prop_Crime', 'Unnamed: 9': 'Burglary',\n",
    "                       'Unnamed: 10': 'Larceny_Theft', 'Unnamed: 11': 'Vehicle_Theft', 'Unnamed: 12': 'Arson'})"
   ]
  },
  {
   "cell_type": "code",
   "execution_count": 46,
   "metadata": {},
   "outputs": [],
   "source": [
    "# Feature Engineering: (Also had to manipulate data_2 a bit because of a 'copy error')\n",
    "\n",
    "data_2 = pd.DataFrame(data[['Population', 'Murder', 'Robbery', 'Prop_Crime']])\n",
    "\n",
    "data_2['Cat_Murder'] = data_2.Murder > 0\n",
    "data_2['Cat_Robbery'] = data_2.Robbery > 0\n",
    "data_2['Population*2'] = data_2.Population**2\n",
    "data_2['Mrdr_per_Capita'] = (data_2.Murder / data_2.Population)*5000\n",
    "data_2['Rob_per_Capita'] = (data_2.Robbery / data_2.Population)*5000\n",
    "data_2['PropCrime_per_Capita'] = (data_2.Prop_Crime / data_2.Population)*5000\n",
    "\n",
    "# Looking at instances of property crime when murder/robbery is/is not present.\n",
    "\n",
    "data_2['PropCrime_Mrdr'] = ((data_2.Prop_Crime > 0) & (data_2.Cat_Murder == True))\n",
    "data_2['PropCrime_Rob'] =  ((data_2.Prop_Crime > 0) & (data_2.Cat_Robbery == True))  "
   ]
  },
  {
   "cell_type": "code",
   "execution_count": 47,
   "metadata": {},
   "outputs": [],
   "source": [
    "# Splitting up the data to account for population sizes:\n",
    "\n",
    "dinky_towns = pd.DataFrame(data_2.loc[data_2['Population'] < 10000])\n",
    "data_towns = pd.DataFrame(data_2.loc[data_2['Population'] < 100000])\n",
    "data_nyc = pd.DataFrame(data_2.loc[data_2['Population'] > 1000000])\n",
    "data_metros = pd.DataFrame(data_2.loc[data_2['Population'] > 100000])\n",
    "data_NOT_nyc = pd.DataFrame(data_2.loc[data_2['Population'] < 1000000])"
   ]
  },
  {
   "cell_type": "code",
   "execution_count": 48,
   "metadata": {},
   "outputs": [
    {
     "data": {
      "text/html": [
       "<div>\n",
       "<style scoped>\n",
       "    .dataframe tbody tr th:only-of-type {\n",
       "        vertical-align: middle;\n",
       "    }\n",
       "\n",
       "    .dataframe tbody tr th {\n",
       "        vertical-align: top;\n",
       "    }\n",
       "\n",
       "    .dataframe thead th {\n",
       "        text-align: right;\n",
       "    }\n",
       "</style>\n",
       "<table border=\"1\" class=\"dataframe\">\n",
       "  <thead>\n",
       "    <tr style=\"text-align: right;\">\n",
       "      <th></th>\n",
       "      <th>Mrdr_per_5k</th>\n",
       "      <th>Rob_per_5k</th>\n",
       "      <th>PropCrime_per_5k</th>\n",
       "    </tr>\n",
       "  </thead>\n",
       "  <tbody>\n",
       "    <tr>\n",
       "      <th>Dinky Towns</th>\n",
       "      <td>0.022590</td>\n",
       "      <td>0.853908</td>\n",
       "      <td>89.134788</td>\n",
       "    </tr>\n",
       "    <tr>\n",
       "      <th>Towns</th>\n",
       "      <td>0.047214</td>\n",
       "      <td>1.671916</td>\n",
       "      <td>96.369524</td>\n",
       "    </tr>\n",
       "    <tr>\n",
       "      <th>Metros</th>\n",
       "      <td>0.504638</td>\n",
       "      <td>13.960737</td>\n",
       "      <td>156.424488</td>\n",
       "    </tr>\n",
       "    <tr>\n",
       "      <th>NYC</th>\n",
       "      <td>0.199497</td>\n",
       "      <td>11.415979</td>\n",
       "      <td>84.545539</td>\n",
       "    </tr>\n",
       "  </tbody>\n",
       "</table>\n",
       "</div>"
      ],
      "text/plain": [
       "             Mrdr_per_5k  Rob_per_5k  PropCrime_per_5k\n",
       "Dinky Towns     0.022590    0.853908         89.134788\n",
       "Towns           0.047214    1.671916         96.369524\n",
       "Metros          0.504638   13.960737        156.424488\n",
       "NYC             0.199497   11.415979         84.545539"
      ]
     },
     "execution_count": 48,
     "metadata": {},
     "output_type": "execute_result"
    }
   ],
   "source": [
    "# Looking at the per-capita spread in more detail:\n",
    "\n",
    "all_per_capita = pd.DataFrame(data = {'Mrdr_per_5k': [dinky_towns['Mrdr_per_Capita'].mean(),\n",
    "                                                data_towns['Mrdr_per_Capita'].mean(),\n",
    "                                                data_metros['Mrdr_per_Capita'].mean(),\n",
    "                                                data_nyc['Mrdr_per_Capita'].mean()],       \n",
    "                                     'Rob_per_5k': [dinky_towns['Rob_per_Capita'].mean(),\n",
    "                                                data_towns['Rob_per_Capita'].mean(),\n",
    "                                                data_metros['Rob_per_Capita'].mean(),\n",
    "                                                data_nyc['Rob_per_Capita'].mean()],\n",
    "                                     'PropCrime_per_5k': [dinky_towns['PropCrime_per_Capita'].mean(),\n",
    "                                                data_towns['PropCrime_per_Capita'].mean(),\n",
    "                                                data_metros['PropCrime_per_Capita'].mean(),\n",
    "                                                data_nyc['PropCrime_per_Capita'].mean()]},\n",
    "                             index = ['Dinky Towns', 'Towns', 'Metros', 'NYC'])\n",
    "all_per_capita"
   ]
  },
  {
   "cell_type": "markdown",
   "metadata": {},
   "source": [
    "It is interesting to look at this dissection of the population since Manhattan actually has a lower average Property Crime Rate than the rest of its cohort.  This could be biased since it could be harder to accurately report every instance of Property Crime the larger a city gets.  Nonetheless, looking at more breakdowns of the population size could be helpful - especially in consideration with Robbery since it looks as if the correlation between this and Property Crime is stronger than that of population and murder."
   ]
  },
  {
   "cell_type": "code",
   "execution_count": 49,
   "metadata": {},
   "outputs": [
    {
     "data": {
      "text/html": [
       "<div>\n",
       "<style scoped>\n",
       "    .dataframe tbody tr th:only-of-type {\n",
       "        vertical-align: middle;\n",
       "    }\n",
       "\n",
       "    .dataframe tbody tr th {\n",
       "        vertical-align: top;\n",
       "    }\n",
       "\n",
       "    .dataframe thead th {\n",
       "        text-align: right;\n",
       "    }\n",
       "</style>\n",
       "<table border=\"1\" class=\"dataframe\">\n",
       "  <thead>\n",
       "    <tr style=\"text-align: right;\">\n",
       "      <th></th>\n",
       "      <th>Murder</th>\n",
       "      <th>Robbery</th>\n",
       "    </tr>\n",
       "  </thead>\n",
       "  <tbody>\n",
       "    <tr>\n",
       "      <th>0</th>\n",
       "      <td>91.563145</td>\n",
       "      <td>58.856144</td>\n",
       "    </tr>\n",
       "    <tr>\n",
       "      <th>1</th>\n",
       "      <td>94.073957</td>\n",
       "      <td>72.788176</td>\n",
       "    </tr>\n",
       "    <tr>\n",
       "      <th>2</th>\n",
       "      <td>93.973566</td>\n",
       "      <td>79.309042</td>\n",
       "    </tr>\n",
       "    <tr>\n",
       "      <th>3</th>\n",
       "      <td>95.011705</td>\n",
       "      <td>83.038345</td>\n",
       "    </tr>\n",
       "    <tr>\n",
       "      <th>4</th>\n",
       "      <td>95.031456</td>\n",
       "      <td>84.941714</td>\n",
       "    </tr>\n",
       "  </tbody>\n",
       "</table>\n",
       "</div>"
      ],
      "text/plain": [
       "      Murder    Robbery\n",
       "0  91.563145  58.856144\n",
       "1  94.073957  72.788176\n",
       "2  93.973566  79.309042\n",
       "3  95.011705  83.038345\n",
       "4  95.031456  84.941714"
      ]
     },
     "execution_count": 49,
     "metadata": {},
     "output_type": "execute_result"
    }
   ],
   "source": [
    "# Looking at these instances even more closely:\n",
    "\n",
    "coincidence_matrix = pd.DataFrame({'Murder': [(data_2.loc[data_2['Murder'] < 1]).PropCrime_per_Capita.mean(),\n",
    "                                              (data_2.loc[data_2['Murder'] < 2]).PropCrime_per_Capita.mean(),\n",
    "                                              (data_2.loc[data_2['Murder'] < 3]).PropCrime_per_Capita.mean(),\n",
    "                                              (data_2.loc[data_2['Murder'] < 4]).PropCrime_per_Capita.mean(),\n",
    "                                              (data_2.loc[data_2['Murder'] < 5]).PropCrime_per_Capita.mean()],\n",
    "                                  'Robbery' : [(data_2.loc[data_2['Robbery'] < 1]).PropCrime_per_Capita.mean(),\n",
    "                                              (data_2.loc[data_2['Robbery'] < 2]).PropCrime_per_Capita.mean(),\n",
    "                                              (data_2.loc[data_2['Robbery'] < 3]).PropCrime_per_Capita.mean(),\n",
    "                                              (data_2.loc[data_2['Robbery'] < 4]).PropCrime_per_Capita.mean(),\n",
    "                                              (data_2.loc[data_2['Robbery'] < 5]).PropCrime_per_Capita.mean()]})\n",
    "coincidence_matrix"
   ]
  },
  {
   "cell_type": "markdown",
   "metadata": {},
   "source": [
    "As you can see here, the per-capita murder rate stays the same, while Property Crime shows a consistent increase with the number of robberies experienced.  This indicates a variable we will want to look at further. At this point, it seems as if Robbery and Population might be better to take into consideration instead of Murder."
   ]
  },
  {
   "cell_type": "code",
   "execution_count": 50,
   "metadata": {},
   "outputs": [
    {
     "data": {
      "text/plain": [
       "count      348.000000\n",
       "mean        72.902299\n",
       "std       1031.032873\n",
       "min          0.000000\n",
       "25%          0.000000\n",
       "50%          1.000000\n",
       "75%          5.000000\n",
       "max      19170.000000\n",
       "Name: Robbery, dtype: float64"
      ]
     },
     "execution_count": 50,
     "metadata": {},
     "output_type": "execute_result"
    }
   ],
   "source": [
    "data_2.Robbery.describe()"
   ]
  },
  {
   "cell_type": "markdown",
   "metadata": {},
   "source": [
    "Obviously there is a lot of variation here since 75% of the data is below 5 occurrences, but the mean is 72.9. This is perhaps due to population size, but also perhaps other items which may or may not be a variable in our dataset.  As such, it is still worthwhile to look at the number of Robberies, in correspondence with the population size, to see how rates change / how these variables correlate."
   ]
  },
  {
   "cell_type": "code",
   "execution_count": 51,
   "metadata": {},
   "outputs": [
    {
     "name": "stderr",
     "output_type": "stream",
     "text": [
      "/usr/local/lib/python3.7/site-packages/matplotlib/axes/_axes.py:6462: UserWarning: The 'normed' kwarg is deprecated, and has been replaced by the 'density' kwarg.\n",
      "  warnings.warn(\"The 'normed' kwarg is deprecated, and has been \"\n"
     ]
    },
    {
     "data": {
      "text/plain": [
       "<seaborn.axisgrid.JointGrid at 0x113313ac8>"
      ]
     },
     "execution_count": 51,
     "metadata": {},
     "output_type": "execute_result"
    },
    {
     "data": {
      "image/png": "[encoded data removed]",
      "text/plain": [
       "<Figure size 432x432 with 3 Axes>"
      ]
     },
     "metadata": {},
     "output_type": "display_data"
    }
   ],
   "source": [
    "# There are still too many outliers from the 'Robbery' category here even if we take out NYC. \n",
    "\n",
    "sns.jointplot(x = 'Robbery', y = 'Prop_Crime', data = data_NOT_nyc)\n"
   ]
  },
  {
   "cell_type": "code",
   "execution_count": 52,
   "metadata": {},
   "outputs": [],
   "source": [
    "# So, taking a look at groups of Robberies - divided into a few quantitative categories:\n",
    "\n",
    "over_1000 = data_2[data_2['Robbery'] >= 1000]\n",
    "bw_300_999 = data_2[(data_2['Robbery'] > 300) & (data_2['Robbery'] < 1000)]\n",
    "bw_101_299 = data_2[(data_2['Robbery'] >= 100) & (data_2['Robbery'] < 299)]\n",
    "bw_50_100 = data_2[(data_2['Robbery'] >= 50) & (data_2['Robbery'] < 100)]\n",
    "bw_6_49 = data_2[(data_2['Robbery'] >= 6)&(data_2['Robbery'] <= 49)]\n",
    "under_25 = data_2[data_2['Robbery'] < 25]\n",
    "over_25 = data_2[data_2['Robbery'] > 25]\n",
    "zero_five = data_2[(data_2['Robbery'] >= 0)&(data_2['Robbery'] <= 5)]"
   ]
  },
  {
   "cell_type": "code",
   "execution_count": 53,
   "metadata": {},
   "outputs": [],
   "source": [
    "# You can see that there are some interesting variations when you divide it up by number of robbery instances:\n",
    "# The functions below can be used with the variables above to see the distribution and correlation of robbery and\n",
    "# PropCrime.  Since the number of robberies could be considered continuous or categorical depending on how we divide\n",
    "# the data, the functions give some different ways to visualize this data.\n",
    "\n",
    "def Rob_PropCrime_Scatter(dataset):\n",
    "    sns.jointplot(x = 'Robbery', y = 'Prop_Crime', data = dataset)\n",
    "    \n",
    "def Rob_PropCrime_StripPlot(dataset):\n",
    "    sns.stripplot(x = 'Robbery', y = 'Prop_Crime', data = dataset, jitter = True)"
   ]
  },
  {
   "cell_type": "code",
   "execution_count": 54,
   "metadata": {},
   "outputs": [
    {
     "name": "stderr",
     "output_type": "stream",
     "text": [
      "/usr/local/lib/python3.7/site-packages/matplotlib/axes/_axes.py:6462: UserWarning: The 'normed' kwarg is deprecated, and has been replaced by the 'density' kwarg.\n",
      "  warnings.warn(\"The 'normed' kwarg is deprecated, and has been \"\n"
     ]
    },
    {
     "data": {
      "image/png": "[encoded data removed]",
      "text/plain": [
       "<Figure size 432x432 with 3 Axes>"
      ]
     },
     "metadata": {},
     "output_type": "display_data"
    }
   ],
   "source": [
    "Rob_PropCrime_Scatter(bw_6_49)"
   ]
  },
  {
   "cell_type": "code",
   "execution_count": 55,
   "metadata": {},
   "outputs": [
    {
     "data": {
      "image/png": "[encoded data removed]",
      "text/plain": [
       "<Figure size 432x288 with 1 Axes>"
      ]
     },
     "metadata": {},
     "output_type": "display_data"
    }
   ],
   "source": [
    "Rob_PropCrime_StripPlot(bw_6_49)"
   ]
  },
  {
   "cell_type": "code",
   "execution_count": 56,
   "metadata": {},
   "outputs": [
    {
     "data": {
      "text/html": [
       "<div>\n",
       "<style scoped>\n",
       "    .dataframe tbody tr th:only-of-type {\n",
       "        vertical-align: middle;\n",
       "    }\n",
       "\n",
       "    .dataframe tbody tr th {\n",
       "        vertical-align: top;\n",
       "    }\n",
       "\n",
       "    .dataframe thead th {\n",
       "        text-align: right;\n",
       "    }\n",
       "</style>\n",
       "<table border=\"1\" class=\"dataframe\">\n",
       "  <thead>\n",
       "    <tr style=\"text-align: right;\">\n",
       "      <th></th>\n",
       "      <th>Population</th>\n",
       "      <th>Murder</th>\n",
       "      <th>Robbery</th>\n",
       "      <th>Prop_Crime</th>\n",
       "      <th>Population*2</th>\n",
       "      <th>Mrdr_per_Capita</th>\n",
       "      <th>Rob_per_Capita</th>\n",
       "      <th>PropCrime_per_Capita</th>\n",
       "    </tr>\n",
       "  </thead>\n",
       "  <tbody>\n",
       "    <tr>\n",
       "      <th>count</th>\n",
       "      <td>56.000000</td>\n",
       "      <td>56.000000</td>\n",
       "      <td>56.000000</td>\n",
       "      <td>56.000000</td>\n",
       "      <td>5.600000e+01</td>\n",
       "      <td>56.000000</td>\n",
       "      <td>56.000000</td>\n",
       "      <td>56.000000</td>\n",
       "    </tr>\n",
       "    <tr>\n",
       "      <th>mean</th>\n",
       "      <td>31817.732143</td>\n",
       "      <td>0.517857</td>\n",
       "      <td>17.125000</td>\n",
       "      <td>735.517857</td>\n",
       "      <td>1.491067e+09</td>\n",
       "      <td>0.089518</td>\n",
       "      <td>3.388258</td>\n",
       "      <td>127.798419</td>\n",
       "    </tr>\n",
       "    <tr>\n",
       "      <th>std</th>\n",
       "      <td>22077.206218</td>\n",
       "      <td>0.762557</td>\n",
       "      <td>9.605041</td>\n",
       "      <td>509.076133</td>\n",
       "      <td>2.388250e+09</td>\n",
       "      <td>0.139230</td>\n",
       "      <td>2.026692</td>\n",
       "      <td>57.880559</td>\n",
       "    </tr>\n",
       "    <tr>\n",
       "      <th>min</th>\n",
       "      <td>6582.000000</td>\n",
       "      <td>0.000000</td>\n",
       "      <td>7.000000</td>\n",
       "      <td>72.000000</td>\n",
       "      <td>4.332272e+07</td>\n",
       "      <td>0.000000</td>\n",
       "      <td>0.516031</td>\n",
       "      <td>22.604546</td>\n",
       "    </tr>\n",
       "    <tr>\n",
       "      <th>25%</th>\n",
       "      <td>16115.750000</td>\n",
       "      <td>0.000000</td>\n",
       "      <td>10.750000</td>\n",
       "      <td>336.250000</td>\n",
       "      <td>2.597294e+08</td>\n",
       "      <td>0.000000</td>\n",
       "      <td>1.970871</td>\n",
       "      <td>93.244260</td>\n",
       "    </tr>\n",
       "    <tr>\n",
       "      <th>50%</th>\n",
       "      <td>27874.500000</td>\n",
       "      <td>0.000000</td>\n",
       "      <td>14.000000</td>\n",
       "      <td>617.000000</td>\n",
       "      <td>7.769920e+08</td>\n",
       "      <td>0.000000</td>\n",
       "      <td>3.062128</td>\n",
       "      <td>125.858327</td>\n",
       "    </tr>\n",
       "    <tr>\n",
       "      <th>75%</th>\n",
       "      <td>36815.750000</td>\n",
       "      <td>1.000000</td>\n",
       "      <td>21.250000</td>\n",
       "      <td>966.750000</td>\n",
       "      <td>1.355448e+09</td>\n",
       "      <td>0.142305</td>\n",
       "      <td>4.167906</td>\n",
       "      <td>161.110112</td>\n",
       "    </tr>\n",
       "    <tr>\n",
       "      <th>max</th>\n",
       "      <td>118296.000000</td>\n",
       "      <td>4.000000</td>\n",
       "      <td>48.000000</td>\n",
       "      <td>2689.000000</td>\n",
       "      <td>1.399394e+10</td>\n",
       "      <td>0.614307</td>\n",
       "      <td>12.154360</td>\n",
       "      <td>319.184717</td>\n",
       "    </tr>\n",
       "  </tbody>\n",
       "</table>\n",
       "</div>"
      ],
      "text/plain": [
       "          Population     Murder    Robbery   Prop_Crime  Population*2  \\\n",
       "count      56.000000  56.000000  56.000000    56.000000  5.600000e+01   \n",
       "mean    31817.732143   0.517857  17.125000   735.517857  1.491067e+09   \n",
       "std     22077.206218   0.762557   9.605041   509.076133  2.388250e+09   \n",
       "min      6582.000000   0.000000   7.000000    72.000000  4.332272e+07   \n",
       "25%     16115.750000   0.000000  10.750000   336.250000  2.597294e+08   \n",
       "50%     27874.500000   0.000000  14.000000   617.000000  7.769920e+08   \n",
       "75%     36815.750000   1.000000  21.250000   966.750000  1.355448e+09   \n",
       "max    118296.000000   4.000000  48.000000  2689.000000  1.399394e+10   \n",
       "\n",
       "       Mrdr_per_Capita  Rob_per_Capita  PropCrime_per_Capita  \n",
       "count        56.000000       56.000000             56.000000  \n",
       "mean          0.089518        3.388258            127.798419  \n",
       "std           0.139230        2.026692             57.880559  \n",
       "min           0.000000        0.516031             22.604546  \n",
       "25%           0.000000        1.970871             93.244260  \n",
       "50%           0.000000        3.062128            125.858327  \n",
       "75%           0.142305        4.167906            161.110112  \n",
       "max           0.614307       12.154360            319.184717  "
      ]
     },
     "execution_count": 56,
     "metadata": {},
     "output_type": "execute_result"
    }
   ],
   "source": [
    "# This table is interesting since the correlation between robberies and property crime stops after you move past\n",
    "# 50 robberies, but under 50 you still have a relatively strong correlation.\n",
    "\n",
    "data_2[(data_2['Robbery'] > 6) & (data_2['Robbery'] < 50)].describe()"
   ]
  },
  {
   "cell_type": "markdown",
   "metadata": {},
   "source": [
    "If you wanted to get a stronger correlation between these variables, you could remove some outliers like Cheektowaga Town, but that would depend on whether or not you want to consider those separately, find more data with similar characteristics or run into potential overfitting, etc."
   ]
  },
  {
   "cell_type": "markdown",
   "metadata": {},
   "source": [
    "## Creating the Model"
   ]
  },
  {
   "cell_type": "code",
   "execution_count": 57,
   "metadata": {},
   "outputs": [],
   "source": [
    "# Looking at some regression/residual plots of the variables we want to consider:\n",
    "\n",
    "def regression_1(dataset):\n",
    "    x = sns.regplot(x = 'Robbery', y = 'Prop_Crime', data = dataset, fit_reg = True)\n",
    "    \n",
    "def regression_2(dataset):\n",
    "    y = sns.regplot(x = 'Population', y = 'Prop_Crime', data = dataset, fit_reg = True)\n",
    "    \n",
    "def residuals_1(dataset):\n",
    "    a = sns.residplot(x = 'Robbery', y = 'Prop_Crime', data = dataset)\n",
    "    \n",
    "def residuals_2(dataset):\n",
    "    b = sns.residplot(x = 'Population', y = 'Prop_Crime', data = dataset)"
   ]
  },
  {
   "cell_type": "code",
   "execution_count": 58,
   "metadata": {},
   "outputs": [
    {
     "data": {
      "image/png": "[encoded data removed]",
      "text/plain": [
       "<Figure size 432x288 with 1 Axes>"
      ]
     },
     "metadata": {},
     "output_type": "display_data"
    }
   ],
   "source": [
    "regression_1(data_NOT_nyc)"
   ]
  },
  {
   "cell_type": "code",
   "execution_count": 59,
   "metadata": {},
   "outputs": [
    {
     "data": {
      "image/png": "[encoded data removed]",
      "text/plain": [
       "<Figure size 432x288 with 1 Axes>"
      ]
     },
     "metadata": {},
     "output_type": "display_data"
    }
   ],
   "source": [
    "regression_2(data_2)"
   ]
  },
  {
   "cell_type": "code",
   "execution_count": 60,
   "metadata": {},
   "outputs": [
    {
     "data": {
      "image/png": "[encoded data removed]",
      "text/plain": [
       "<Figure size 432x288 with 1 Axes>"
      ]
     },
     "metadata": {},
     "output_type": "display_data"
    }
   ],
   "source": [
    "residuals_1(data_2)"
   ]
  },
  {
   "cell_type": "code",
   "execution_count": 61,
   "metadata": {},
   "outputs": [
    {
     "data": {
      "image/png": "[encoded data removed]",
      "text/plain": [
       "<Figure size 432x288 with 1 Axes>"
      ]
     },
     "metadata": {},
     "output_type": "display_data"
    }
   ],
   "source": [
    "residuals_2(data_2)"
   ]
  },
  {
   "cell_type": "markdown",
   "metadata": {},
   "source": [
    "Even though this model would be insufficient for a real-world prediction scenario, we can see that there is at least some sort of correlation between robberies, population and property crimes.  We will test this model below"
   ]
  },
  {
   "cell_type": "markdown",
   "metadata": {},
   "source": [
    "## Testing the Model"
   ]
  },
  {
   "cell_type": "markdown",
   "metadata": {},
   "source": [
    "For expediency's sake, we will take a look at basing our model off of the number of robberies which occur - according\n",
    "to the variables/groupings above (which were loosely based on descriptive statistics of the Robbery column.):"
   ]
  },
  {
   "cell_type": "code",
   "execution_count": 69,
   "metadata": {},
   "outputs": [],
   "source": [
    "Avg_PropCrime_Robbery = pd.DataFrame({'1' : [(data_2[data_2['Robbery'] == 1].Prop_Crime.mean()), (data_2[data_2['Robbery'] == 1].Prop_Crime.std())],\n",
    "                                      '2' : [(data_2[data_2['Robbery'] == 2].Prop_Crime.mean()), (data_2[data_2['Robbery'] == 2].Prop_Crime.std())],\n",
    "                                      '3' : [(data_2[data_2['Robbery'] == 3].Prop_Crime.mean()), (data_2[data_2['Robbery'] == 3].Prop_Crime.std())],\n",
    "                                      '4' : [(data_2[data_2['Robbery'] == 4].Prop_Crime.mean()), (data_2[data_2['Robbery'] == 4].Prop_Crime.std())],\n",
    "                                      '5' : [(data_2[data_2['Robbery'] == 5].Prop_Crime.mean()), (data_2[data_2['Robbery'] == 5].Prop_Crime.std())],\n",
    "                                      '6 to 49' : [(bw_6_49.Prop_Crime.mean()), (bw_6_49.Prop_Crime.std())],\n",
    "                                      '59 to 100' : [(bw_50_100.Prop_Crime.mean()), (bw_50_100.Prop_Crime.std())],\n",
    "                                      '101 to 299' : [(bw_101_299.Prop_Crime.mean()), (bw_101_299.Prop_Crime.std())],\n",
    "                                      '300 to 999' : [(bw_300_999.Prop_Crime.mean()), (bw_300_999.Prop_Crime.std())],\n",
    "                                      'over 1000' : [(over_1000.Prop_Crime.mean()), (over_1000.Prop_Crime.std())]},\n",
    "                                    index = ['Mean_PropCrime_Robbery', 'Std_Each_Mean'])"
   ]
  },
  {
   "cell_type": "code",
   "execution_count": 70,
   "metadata": {},
   "outputs": [
    {
     "data": {
      "text/html": [
       "<div>\n",
       "<style scoped>\n",
       "    .dataframe tbody tr th:only-of-type {\n",
       "        vertical-align: middle;\n",
       "    }\n",
       "\n",
       "    .dataframe tbody tr th {\n",
       "        vertical-align: top;\n",
       "    }\n",
       "\n",
       "    .dataframe thead th {\n",
       "        text-align: right;\n",
       "    }\n",
       "</style>\n",
       "<table border=\"1\" class=\"dataframe\">\n",
       "  <thead>\n",
       "    <tr style=\"text-align: right;\">\n",
       "      <th></th>\n",
       "      <th>1</th>\n",
       "      <th>2</th>\n",
       "      <th>3</th>\n",
       "      <th>4</th>\n",
       "      <th>5</th>\n",
       "      <th>6 to 49</th>\n",
       "      <th>59 to 100</th>\n",
       "      <th>101 to 299</th>\n",
       "      <th>300 to 999</th>\n",
       "      <th>over 1000</th>\n",
       "    </tr>\n",
       "  </thead>\n",
       "  <tbody>\n",
       "    <tr>\n",
       "      <th>Mean_PropCrime_Robbery</th>\n",
       "      <td>116.178571</td>\n",
       "      <td>243.800000</td>\n",
       "      <td>223.043478</td>\n",
       "      <td>323.0000</td>\n",
       "      <td>351.800000</td>\n",
       "      <td>696.354839</td>\n",
       "      <td>1495.000000</td>\n",
       "      <td>2078.00000</td>\n",
       "      <td>6297.333333</td>\n",
       "      <td>77231.000000</td>\n",
       "    </tr>\n",
       "    <tr>\n",
       "      <th>Std_Each_Mean</th>\n",
       "      <td>80.418701</td>\n",
       "      <td>144.781732</td>\n",
       "      <td>182.074530</td>\n",
       "      <td>120.0423</td>\n",
       "      <td>171.855107</td>\n",
       "      <td>502.808118</td>\n",
       "      <td>577.260196</td>\n",
       "      <td>1043.29329</td>\n",
       "      <td>3844.511196</td>\n",
       "      <td>91556.186028</td>\n",
       "    </tr>\n",
       "  </tbody>\n",
       "</table>\n",
       "</div>"
      ],
      "text/plain": [
       "                                 1           2           3         4  \\\n",
       "Mean_PropCrime_Robbery  116.178571  243.800000  223.043478  323.0000   \n",
       "Std_Each_Mean            80.418701  144.781732  182.074530  120.0423   \n",
       "\n",
       "                                 5     6 to 49    59 to 100  101 to 299  \\\n",
       "Mean_PropCrime_Robbery  351.800000  696.354839  1495.000000  2078.00000   \n",
       "Std_Each_Mean           171.855107  502.808118   577.260196  1043.29329   \n",
       "\n",
       "                         300 to 999     over 1000  \n",
       "Mean_PropCrime_Robbery  6297.333333  77231.000000  \n",
       "Std_Each_Mean           3844.511196  91556.186028  "
      ]
     },
     "execution_count": 70,
     "metadata": {},
     "output_type": "execute_result"
    }
   ],
   "source": [
    "Avg_PropCrime_Robbery"
   ]
  },
  {
   "cell_type": "markdown",
   "metadata": {},
   "source": [
    "Given this tabel, it seems as if we could build a relatively adequate model for predicting the number of Property Crimes (despite the high variation indicated by the standard deviation) for any city with 1-5 Robberies. Below, we create a function for sorting through the data and creating a 'Model' column."
   ]
  },
  {
   "cell_type": "code",
   "execution_count": 71,
   "metadata": {},
   "outputs": [],
   "source": [
    "# Roughly categorizing these numbers for a model:\n",
    "\n",
    "data_2['Model'] = (((data_2.Robbery == 1) & (data_2.Prop_Crime >= 40) & (data_2.Prop_Crime <= 195)) | \n",
    "                   ((data_2.Robbery == 2) & (data_2.Prop_Crime >= 100) & (data_2.Prop_Crime <= 380)) |\n",
    "                   ((data_2.Robbery == 3) & (data_2.Prop_Crime >= 40) & (data_2.Prop_Crime <= 400)) |\n",
    "                   ((data_2.Robbery == 4) & (data_2.Prop_Crime >= 200) & (data_2.Prop_Crime <= 440)) |\n",
    "                   ((data_2.Robbery == 5) & (data_2.Prop_Crime >= 180) & (data_2.Prop_Crime <= 520)))"
   ]
  },
  {
   "cell_type": "code",
   "execution_count": 72,
   "metadata": {},
   "outputs": [
    {
     "data": {
      "text/plain": [
       "False    255\n",
       "True      93\n",
       "Name: Model, dtype: int64"
      ]
     },
     "execution_count": 72,
     "metadata": {},
     "output_type": "execute_result"
    }
   ],
   "source": [
    "data_2['Model'].value_counts()"
   ]
  },
  {
   "cell_type": "markdown",
   "metadata": {},
   "source": [
    "While this gets us some predictions, it doesn't get us nearly close enough to where we need to be.  It would perhaps, be useful to expand our groupings.  Using these numbers in conjunction with population would possibly lead to overfitting, so let's see what happens when we add a few more groups and expand a few others."
   ]
  },
  {
   "cell_type": "code",
   "execution_count": 74,
   "metadata": {},
   "outputs": [],
   "source": [
    "# expanding the categories a bit\n",
    "\n",
    "data_2['Model'] = (((data_2.Robbery == 1) & (data_2.Prop_Crime >= 40) & (data_2.Prop_Crime <= 195)) | \n",
    "                   ((data_2.Robbery == 2) & (data_2.Prop_Crime >= 100) & (data_2.Prop_Crime <= 380)) |\n",
    "                   ((data_2.Robbery == 3) & (data_2.Prop_Crime >= 40) & (data_2.Prop_Crime <= 400)) |\n",
    "                   ((data_2.Robbery == 4) & (data_2.Prop_Crime >= 200) & (data_2.Prop_Crime <= 440)) |\n",
    "                   ((data_2.Robbery == 5) & (data_2.Prop_Crime >= 180) & (data_2.Prop_Crime <= 520)) | \n",
    "                   ((data_2.Robbery >= 6) & (data_2.Robbery <= 100) & (data_2.Prop_Crime >= 100) & (data_2.Prop_Crime <= 1800)) |\n",
    "                   ((data_2.Robbery >= 101) & (data_2.Robbery <= 999) & (data_2.Prop_Crime >= 1000) & (data_2.Prop_Crime <= 9000)))"
   ]
  },
  {
   "cell_type": "code",
   "execution_count": 75,
   "metadata": {},
   "outputs": [
    {
     "data": {
      "text/plain": [
       "False    183\n",
       "True     165\n",
       "Name: Model, dtype: int64"
      ]
     },
     "execution_count": 75,
     "metadata": {},
     "output_type": "execute_result"
    }
   ],
   "source": [
    "data_2['Model'].value_counts()"
   ]
  },
  {
   "cell_type": "code",
   "execution_count": 78,
   "metadata": {},
   "outputs": [],
   "source": [
    "# We are nearly at a 50% prediction rate above - perhaps looking at Property Crime per Capita will be more effective:\n",
    "\n",
    "data_2['Model'] = (((data_2.Robbery == 1) & (data_2.PropCrime_per_Capita >= 50) & (data_2.PropCrime_per_Capita <= 65)) | \n",
    "                   ((data_2.Robbery == 2) & (data_2.PropCrime_per_Capita >= 64) & (data_2.PropCrime_per_Capita <= 78)) |\n",
    "                   ((data_2.Robbery == 3) & (data_2.PropCrime_per_Capita >= 70) & (data_2.PropCrime_per_Capita <= 85)) |\n",
    "                   ((data_2.Robbery == 4) & (data_2.PropCrime_per_Capita >= 75) & (data_2.PropCrime_per_Capita <= 90)) |\n",
    "                   ((data_2.Robbery >= 5) & (data_2.PropCrime_per_Capita >= 80) & (data_2.PropCrime_per_Capita <= 90)))"
   ]
  },
  {
   "cell_type": "code",
   "execution_count": 79,
   "metadata": {},
   "outputs": [
    {
     "data": {
      "text/plain": [
       "False    329\n",
       "True      19\n",
       "Name: Model, dtype: int64"
      ]
     },
     "execution_count": 79,
     "metadata": {},
     "output_type": "execute_result"
    }
   ],
   "source": [
    "data_2['Model'].value_counts()"
   ]
  },
  {
   "cell_type": "markdown",
   "metadata": {},
   "source": [
    "It looks like the previous model will do better when cross-validation is applied since this one only predicted 19 out of 329."
   ]
  },
  {
   "cell_type": "code",
   "execution_count": null,
   "metadata": {},
   "outputs": [],
   "source": []
  }
 ],
 "metadata": {
  "kernelspec": {
   "display_name": "Python 3",
   "language": "python",
   "name": "python3"
  },
  "language_info": {
   "codemirror_mode": {
    "name": "ipython",
    "version": 3
   },
   "file_extension": ".py",
   "mimetype": "text/x-python",
   "name": "python",
   "nbconvert_exporter": "python",
   "pygments_lexer": "ipython3",
   "version": "3.7.0"
  }
 },
 "nbformat": 4,
 "nbformat_minor": 2
}
