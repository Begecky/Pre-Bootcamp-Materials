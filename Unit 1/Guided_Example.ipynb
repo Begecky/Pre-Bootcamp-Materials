{
 "cells": [
  {
   "cell_type": "markdown",
   "metadata": {},
   "source": [
    "# Experimentation Guided Example\n",
    "\n",
    "\n",
    "\n",
    "Over the past several assignments we've walked through many of the elements of good experimentation, covering statistical tests, research proposals, and more. But things are always a little different in the wild, so now we're going to put many of these elements together and walk through an example of what an experiment might look like when you're actually running it. The goal here is to see how the pieces fit together.\n",
    "\n",
    "This is an interactive guided example. Changes you make to the version of this notebook on Thinkful's servers won't stick around. Make a copy of this notebook right now and save it to your local environment so that you'll have your own version, then switch over to that version.\n",
    "\n",
    "## Setting the Stage\n",
    "\n",
    "So let's talk about the scenario. For this example we're going to use a generic marketing scenario focused on email conversion. Many companies in a variety of industries run email campaigns to get people to sign up for a service.  Even if your interest is not in marketing, any experiment designed to elicit a discrete response will be similarly constructed.\n",
    "\n",
    "Our theoretical company is a social networking site, called BlueBird. BlueBird has been using the same advertising email for years, and some at the company are starting to feel that it's getting a little stale. Ever the data driven individual, you propose an experiment. The marketing department draws up a new version of the email, and you'll conduct an A/B test comparing the two emails.\n",
    "\n",
    "## Before Rollout\n",
    "\n",
    "You may want to roll out the experiment right away, but there is so much to do beforehand! Getting an experiment ready to go out the door is serious business. It will make everything that comes after easier and make sure you're making well thought out decisions all the way through.\n",
    "\n",
    "Now the research proposal or similar document can play a huge role in this prep process. That should contain a detailed description of the motivation of the experiment, what exactly the change is, and a plan for rollout. For this experiment, let's highlight a few elements of the research proposal here, rather than report the whole document.\n",
    "\n",
    "**Copy of Both Emails**. This is useful so that anyone looking into the experiment can use the research proposal to actually see what happens.\n",
    "\n",
    "**Rollout Plan**. Knowing how many people you intend to treat with your new email and how long this is going to take is important. It's not only a key aspect of the experiment itself, but also something you're likely to be asked about by other people who care about the outcome. Often times, though 50:50 rollouts are the fastest, a gradual rollout will be used to ensure that there are no negative consequences of the experiment or if things are broken or severely degraded it can be rolled back quickly. In this case we'll do two weeks at 10% and then two weeks at 50%. That will lead to about 30,000+ in treatment, which is a nice sized sample.\n",
    "\n",
    "_As a note, if you want to do a more rigorous calculation of sample size, you can do power calculations before hand._ Power _is the probability of rejecting a false null hypothesis. This uses the formula for t-test to see what effect would be detectable at a given sample size [also referred to as 'N'](https://onlinecourses.science.psu.edu/stat500/node/46)_.\n",
    "\n",
    "**Success Metric**. It may seem obvious, but defining success before rolling out an experiment is a key thing to do. Usually this means picking the key metric of interest and setting the degree of significance you want to have. For a t-test this is typically a p-value of .05, and that's what we'll do here. Our success metric will be signups (also called conversions).\n",
    "\n",
    "**Secondary Metrics**. It's easier to evaluate success if you have one success metric, but that doesn't mean that's all you look at. There can be many other metrics of interest, and monitoring them will ensure that you're not having an adverse effect on other things that matter. In this case let's make time from email to signup a secondary metric.\n",
    "\n",
    "**Other Things to Do...**\n",
    "\n",
    "You should also _test the infrastructure_, if any, before rolling out. In this case that means making sure the email is set up properly to be sent out when the experiment turns on. If it's manual, that's pretty easy (make sure it's formatted properly and the email is generally deliverable). If you use a service, sending some test emails to test accounts is probably a good idea. This can be either an engineering or a data science task, depending on complexity.\n",
    "\n",
    "Make sure you have a _method for randomly sampling subjects_, and know if people stay in test or control permanently. This can matter for something like emails if people receive multiple messages. Should they only receive the new style of email or should each email be random? For simplicity, we'll assume each individual is only emailed once.\n",
    "\n",
    "This is also a good time to check if there is any potential _collision with other events or experiments_. You want to run experiments in times that are representative of standard operations (unless your experiment is explicitly about how to handle an extreme situation). If you were testing marketing strategies for football betting behavior right before the Super Bowl, for example, you might see some weird behaviors that would make your findings not broadly applicable. You also don't want to test two things that are related at the same time.\n",
    "\n",
    "Another consideration is _segmentation_ of your sample. Sometimes you don't want to test on the entire population. Maybe you'll pick specific cities (in which case it may be appropriate to sample those in a representative fashion) or test a specific age group or tenure of user. Make these decisions early as they will help inform later analysis and possibly how the experiment is functionally set up. For here we'll just assume we're small enough to test on the entire population.\n",
    "\n",
    "Finally, it is good practice to give everyone a chance to _review the research proposal and provide feedback_. Sometimes this is done through a kickoff meeting while other companies may have less formal processes. Make sure everyone involved is aware of the plan and bought in before rolling out.\n",
    "\n",
    "After all of this is done, and the boxes are all checked, you're ready to roll. Let's say we flipped the switch and turned the experiment on at 10% on April 1, 2016."
   ]
  },
  {
   "cell_type": "markdown",
   "metadata": {},
   "source": [
    "## Two Weeks In\n",
    "\n",
    "Of course, you would monitor the experiment throughout its time in the wild, but two weeks in when considering turning up the proportion is a good time to do some analytics to see how things are performing before you roll forward to 50%.\n",
    "\n",
    "We've [got a file](https://github.com/Thinkful-Ed/data-201-resources/blob/master/1.4.11_experimentation_guided_example/experiment_data_2_wks.csv) for what the data looks like up to this point. Save this CSV to your local environment in the same folder as your notebook as `experiment_data_2_wks.csv`."
   ]
  },
  {
   "cell_type": "code",
   "execution_count": 4,
   "metadata": {
    "collapsed": true
   },
   "outputs": [],
   "source": [
    "%matplotlib inline\n",
    "import pandas as pd\n",
    "import numpy as np\n",
    "import seaborn as sns\n",
    "from matplotlib import pyplot as plt\n",
    "from scipy import stats"
   ]
  },
  {
   "cell_type": "code",
   "execution_count": 29,
   "metadata": {},
   "outputs": [],
   "source": [
    "PATH = 'https://raw.githubusercontent.com/Thinkful-Ed/data-201-resources/master/1.4.11_experimentation_guided_example/experiment_data_2_wks.csv'\n",
    "experiment_data_1 = pd.read_csv(PATH)"
   ]
  },
  {
   "cell_type": "markdown",
   "metadata": {},
   "source": [
    "Let's take a look at the data"
   ]
  },
  {
   "cell_type": "code",
   "execution_count": 30,
   "metadata": {},
   "outputs": [
    {
     "data": {
      "text/html": [
       "<div>\n",
       "<style>\n",
       "    .dataframe thead tr:only-child th {\n",
       "        text-align: right;\n",
       "    }\n",
       "\n",
       "    .dataframe thead th {\n",
       "        text-align: left;\n",
       "    }\n",
       "\n",
       "    .dataframe tbody tr th {\n",
       "        vertical-align: top;\n",
       "    }\n",
       "</style>\n",
       "<table border=\"1\" class=\"dataframe\">\n",
       "  <thead>\n",
       "    <tr style=\"text-align: right;\">\n",
       "      <th></th>\n",
       "      <th>treatment_date</th>\n",
       "      <th>test</th>\n",
       "      <th>is_signed_up</th>\n",
       "      <th>signup_date</th>\n",
       "    </tr>\n",
       "  </thead>\n",
       "  <tbody>\n",
       "    <tr>\n",
       "      <th>0</th>\n",
       "      <td>2016-04-01</td>\n",
       "      <td>0</td>\n",
       "      <td>0</td>\n",
       "      <td>NaN</td>\n",
       "    </tr>\n",
       "    <tr>\n",
       "      <th>1</th>\n",
       "      <td>2016-04-01</td>\n",
       "      <td>0</td>\n",
       "      <td>0</td>\n",
       "      <td>NaN</td>\n",
       "    </tr>\n",
       "    <tr>\n",
       "      <th>2</th>\n",
       "      <td>2016-04-01</td>\n",
       "      <td>0</td>\n",
       "      <td>0</td>\n",
       "      <td>NaN</td>\n",
       "    </tr>\n",
       "    <tr>\n",
       "      <th>3</th>\n",
       "      <td>2016-04-01</td>\n",
       "      <td>0</td>\n",
       "      <td>0</td>\n",
       "      <td>NaN</td>\n",
       "    </tr>\n",
       "    <tr>\n",
       "      <th>4</th>\n",
       "      <td>2016-04-01</td>\n",
       "      <td>0</td>\n",
       "      <td>0</td>\n",
       "      <td>NaN</td>\n",
       "    </tr>\n",
       "    <tr>\n",
       "      <th>5</th>\n",
       "      <td>2016-04-01</td>\n",
       "      <td>0</td>\n",
       "      <td>0</td>\n",
       "      <td>NaN</td>\n",
       "    </tr>\n",
       "    <tr>\n",
       "      <th>6</th>\n",
       "      <td>2016-04-01</td>\n",
       "      <td>1</td>\n",
       "      <td>1</td>\n",
       "      <td>2016-04-02</td>\n",
       "    </tr>\n",
       "    <tr>\n",
       "      <th>7</th>\n",
       "      <td>2016-04-01</td>\n",
       "      <td>0</td>\n",
       "      <td>0</td>\n",
       "      <td>NaN</td>\n",
       "    </tr>\n",
       "    <tr>\n",
       "      <th>8</th>\n",
       "      <td>2016-04-01</td>\n",
       "      <td>0</td>\n",
       "      <td>0</td>\n",
       "      <td>NaN</td>\n",
       "    </tr>\n",
       "    <tr>\n",
       "      <th>9</th>\n",
       "      <td>2016-04-01</td>\n",
       "      <td>0</td>\n",
       "      <td>0</td>\n",
       "      <td>NaN</td>\n",
       "    </tr>\n",
       "  </tbody>\n",
       "</table>\n",
       "</div>"
      ],
      "text/plain": [
       "  treatment_date  test  is_signed_up signup_date\n",
       "0     2016-04-01     0             0         NaN\n",
       "1     2016-04-01     0             0         NaN\n",
       "2     2016-04-01     0             0         NaN\n",
       "3     2016-04-01     0             0         NaN\n",
       "4     2016-04-01     0             0         NaN\n",
       "5     2016-04-01     0             0         NaN\n",
       "6     2016-04-01     1             1  2016-04-02\n",
       "7     2016-04-01     0             0         NaN\n",
       "8     2016-04-01     0             0         NaN\n",
       "9     2016-04-01     0             0         NaN"
      ]
     },
     "execution_count": 30,
     "metadata": {},
     "output_type": "execute_result"
    }
   ],
   "source": [
    "experiment_data_1.head(10)"
   ]
  },
  {
   "cell_type": "markdown",
   "metadata": {},
   "source": [
    "OK, so the data seems to have a few columns. `treatment_date` shows the date of the email being sent. `test` is a binary indicator if they were in test or control. `is_signed_up` shows if they successfully signed up. `signup_date` is the date of signup. Simple enough.\n",
    "\n",
    "But how are things going? Let's write some code to see.\n",
    "\n",
    "__Answer the questions below about this data to see how the experiment is developing__"
   ]
  },
  {
   "cell_type": "code",
   "execution_count": 33,
   "metadata": {},
   "outputs": [
    {
     "data": {
      "text/plain": [
       "0    30241\n",
       "1     3372\n",
       "Name: test, dtype: int64"
      ]
     },
     "execution_count": 33,
     "metadata": {},
     "output_type": "execute_result"
    }
   ],
   "source": [
    "# How large is each group?  \n",
    "group_count = experiment_data_1['test'].value_counts()\n",
    "group_count"
   ]
  },
  {
   "cell_type": "code",
   "execution_count": 196,
   "metadata": {},
   "outputs": [],
   "source": [
    "# What is the signup rate of test and control?\n",
    "test_size = 3372\n",
    "control_size = 30241\n",
    "\n",
    "test_group1 = experiment_data_1[experiment_data_1['test'] == 1].truncate(before = None, after = 'is_signed_up', axis = 1)\n",
    "control_group = experiment_data_1[experiment_data_1['test'] == 0].truncate(before = None, after = 'is_signed_up', axis = 1)\n",
    "\n",
    "test_users = test_group1[test_group1['is_signed_up'] == 1].dropna()\n",
    "control_users = control_group[control_group['is_signed_up'] == 1].dropna()\n",
    "\n",
    "test_pct = (len(test_users)/test_size)*100\n",
    "control_pct = (len(control_users)/control_size)*100"
   ]
  },
  {
   "cell_type": "code",
   "execution_count": 197,
   "metadata": {},
   "outputs": [
    {
     "data": {
      "text/plain": [
       "Ttest_indResult(statistic=-1.5711354292574262, pvalue=0.11616060761145311)"
      ]
     },
     "execution_count": 197,
     "metadata": {},
     "output_type": "execute_result"
    }
   ],
   "source": [
    "# Is the experiment already significant?\n",
    "stats.ttest_ind(test_group1.is_signed_up, control_group.is_signed_up)"
   ]
  },
  {
   "cell_type": "markdown",
   "metadata": {},
   "source": [
    "Here's an example of how this code could look. Don't look at it until after trying on your own."
   ]
  },
  {
   "cell_type": "markdown",
   "metadata": {},
   "source": [
    "Seriously. Try it yourself first. \n",
    "\n",
    "![NYC at night](assets/nyc.gif)"
   ]
  },
  {
   "cell_type": "code",
   "execution_count": 11,
   "metadata": {},
   "outputs": [
    {
     "name": "stdout",
     "output_type": "stream",
     "text": [
      "test sample size: 3372\n",
      "control sample size: 30241\n",
      "test proportion: 0.10031832921786214\n",
      "\n",
      "test signup rate: 0.13701067615658363\n",
      "control signup rate: 0.14708508316523924\n"
     ]
    },
    {
     "data": {
      "text/plain": [
       "Ttest_indResult(statistic=-1.5711354292574262, pvalue=0.11616060761145311)"
      ]
     },
     "execution_count": 11,
     "metadata": {},
     "output_type": "execute_result"
    }
   ],
   "source": [
    "# How large is each group?\n",
    "print('test sample size:', len(experiment_data[experiment_data.test == 1]))\n",
    "print('control sample size:', len(experiment_data[experiment_data.test == 0]))\n",
    "print('test proportion:', experiment_data.test.mean()) # Wouldn't this take the mean of the binary values? not the \n",
    "# percentage who are 1 or 2.\n",
    "print()\n",
    "\n",
    "# What is the signup rate of test and control?\n",
    "print('test signup rate:', experiment_data[experiment_data.test == 1].is_signed_up.mean())\n",
    "print('control signup rate:', experiment_data[experiment_data.test == 0].is_signed_up.mean())\n",
    "\n",
    "# Are the test and control groups significantly different?\n",
    "stats.ttest_ind(experiment_data[experiment_data.test == 1].is_signed_up,\n",
    "                experiment_data[experiment_data.test == 0].is_signed_up)"
   ]
  },
  {
   "cell_type": "markdown",
   "metadata": {},
   "source": [
    "So the groups are not significantly different, and indications do not seem great. The test signup rate seems lower than the old message. Can you see any reason why?\n",
    "\n",
    "**Use the cell below to write some code to investigate. It might be worth looking at the secondary metric:**"
   ]
  },
  {
   "cell_type": "code",
   "execution_count": 125,
   "metadata": {},
   "outputs": [
    {
     "data": {
      "text/plain": [
       "2016-04-10    529\n",
       "2016-04-13    514\n",
       "2016-04-12    500\n",
       "2016-04-14    497\n",
       "2016-04-11    489\n",
       "2016-04-08    445\n",
       "2016-04-09    420\n",
       "2016-04-07    397\n",
       "2016-04-06    353\n",
       "2016-04-05    280\n",
       "2016-04-04    230\n",
       "2016-04-03    170\n",
       "2016-04-02     76\n",
       "2016-04-01     10\n",
       "Name: signup_date, dtype: int64"
      ]
     },
     "execution_count": 125,
     "metadata": {},
     "output_type": "execute_result"
    }
   ],
   "source": [
    "# Your code here.\n",
    "all_users = experiment_data_1.dropna()\n",
    "date_layout = all_users.signup_date.value_counts()\n",
    "date_layout\n",
    "# So, when you look at the layout of the dates, you see the start date of the experiment, and the number increases\n",
    "# considerably as time goes on.  Looks like if you wait and let the experiment play out, your p-value will go down."
   ]
  },
  {
   "cell_type": "markdown",
   "metadata": {},
   "source": [
    "Here's another example of how this code could look. Don't look at it until after trying on your own.\n",
    "\n",
    "![What a lovely contrast to NYC](assets/forest.gif)"
   ]
  },
  {
   "cell_type": "code",
   "execution_count": 13,
   "metadata": {},
   "outputs": [
    {
     "data": {
      "image/png": "[encoded data removed]",
      "text/plain": [
       "<matplotlib.figure.Figure at 0x114afb5f8>"
      ]
     },
     "metadata": {},
     "output_type": "display_data"
    },
    {
     "name": "stdout",
     "output_type": "stream",
     "text": [
      "T-Test Results by Date\n",
      "Ttest_indResult(statistic=1.171015382328547, pvalue=0.24172432121696255)\n",
      "Ttest_indResult(statistic=0.39163213374090855, pvalue=0.6953630758340448)\n",
      "Ttest_indResult(statistic=0.24114731791032132, pvalue=0.8094651742723448)\n",
      "Ttest_indResult(statistic=1.006146671265253, pvalue=0.3144281887767212)\n",
      "Ttest_indResult(statistic=1.7950152227404037, pvalue=0.0727950243234006)\n",
      "Ttest_indResult(statistic=-0.07142256949339083, pvalue=0.9430681183812821)\n",
      "Ttest_indResult(statistic=-0.99645401324533, pvalue=0.31911047625459077)\n",
      "Ttest_indResult(statistic=-1.4059315672051254, pvalue=0.1598930922410899)\n",
      "Ttest_indResult(statistic=-2.772772511643487, pvalue=0.0055926512303104605)\n",
      "Ttest_indResult(statistic=-1.301097855458891, pvalue=0.19332775805677105)\n",
      "Ttest_indResult(statistic=-1.6243695706046337, pvalue=0.10443285596458776)\n",
      "Ttest_indResult(statistic=-2.559540254853317, pvalue=0.010550250694229046)\n",
      "Ttest_indResult(statistic=-0.851793126290792, pvalue=0.3944212121535955)\n",
      "Ttest_indResult(statistic=0.014473352887334019, pvalue=0.9884536957336474)\n"
     ]
    }
   ],
   "source": [
    "# Some example code...\n",
    "\n",
    "\n",
    "fig = experiment_data_1[experiment_data_1.test==1][\n",
    "    ['treatment_date', 'is_signed_up']].groupby('treatment_date').mean().plot()\n",
    "experiment_data_1[experiment_data_1.test==0][\n",
    "    ['treatment_date', 'is_signed_up']].groupby('treatment_date').mean().plot(ax=fig)\n",
    "plt.legend(['test','control'])\n",
    "plt.title('Comparing Signup Rates by Treatment Date')\n",
    "plt.show()\n",
    "\n",
    "\n",
    "# Generate a test statistic comparing test and control on treatment date\n",
    "print('T-Test Results by Date')\n",
    "\n",
    "for date in experiment_data_1.treatment_date.unique():\n",
    "    dated_data = experiment_data_1[experiment_data_1.treatment_date == date]\n",
    "    print(stats.ttest_ind(dated_data[dated_data.test == 1].is_signed_up,\n",
    "                          dated_data[dated_data.test == 0].is_signed_up))"
   ]
  },
  {
   "cell_type": "markdown",
   "metadata": {},
   "source": [
    "Right. So what you see is that the test group is converting slower than the control group. But if you look just at the group treated in the first few days, they're not that different in signup rate. The rates seem to converge as time passes after sending the email.\n",
    "\n",
    "This means the difference could be a time effect rather than a rate effect. Time plays a huge role in almost all experiments. Not all behaviors are immediate. Sometimes it takes a while to figure out a new feature. Other times there is novelty effect from the new feature that leads to a spike in activity. Letting these things play out is an inexact, but important, feature of experimental design.\n",
    "\n",
    "We could wait here, but that time feature has me feeling pretty comfortable that any damage to signup rate will get lower with time, so I say let's roll out to 50% for another two weeks."
   ]
  },
  {
   "cell_type": "markdown",
   "metadata": {},
   "source": [
    "## Experiment Wrap Up\n",
    "\n",
    "Two more weeks go by and you have enough people in your sample so you now turn the experiment off. No more users will be given a test email. Now it's time to analyze what happened and see how the new email is performing.\n",
    "\n",
    "This [final data set](https://github.com/Thinkful-Ed/data-201-resources/blob/master/1.4.11_experimentation_guided_example/experiment_data_final.csv) comes from a few weeks after the experiment is turned off to account for some of those time effects. Again, save this in the same folder as your notebook."
   ]
  },
  {
   "cell_type": "markdown",
   "metadata": {},
   "source": [
    "Let's answer the same basic questions again."
   ]
  },
  {
   "cell_type": "code",
   "execution_count": 129,
   "metadata": {
    "collapsed": true
   },
   "outputs": [],
   "source": [
    "PATH = 'https://raw.githubusercontent.com/Thinkful-Ed/data-201-resources/master/1.4.11_experimentation_guided_example/experiment_data_final.csv'\n",
    "experiment_data_final = pd.read_csv(PATH)"
   ]
  },
  {
   "cell_type": "code",
   "execution_count": 130,
   "metadata": {},
   "outputs": [
    {
     "name": "stdout",
     "output_type": "stream",
     "text": [
      "test sample size: 19861\n",
      "control sample size: 46867\n",
      "test proportion: 0.2976411701234864\n",
      "\n",
      "test signup rate: 0.2421328231206888\n",
      "control signup rate: 0.19937269293959503\n"
     ]
    },
    {
     "data": {
      "text/plain": [
       "Ttest_indResult(statistic=12.368130184147793, pvalue=4.248167714911685e-35)"
      ]
     },
     "execution_count": 130,
     "metadata": {},
     "output_type": "execute_result"
    }
   ],
   "source": [
    "# How large is each group?\n",
    "print('test sample size:', len(experiment_data_final[experiment_data_final.test == 1]))\n",
    "print('control sample size:', len(experiment_data_final[experiment_data_final.test == 0]))\n",
    "print('test proportion:', experiment_data_final.test.mean())\n",
    "print()\n",
    "\n",
    "# What is the signup rate of test and control?\n",
    "print('test signup rate:', experiment_data_final[experiment_data_final.test == 1].is_signed_up.mean())\n",
    "print('control signup rate:', experiment_data_final[experiment_data_final.test == 0].is_signed_up.mean())\n",
    "\n",
    "# Is the experiment already significant?\n",
    "stats.ttest_ind(\n",
    "    experiment_data_final[experiment_data_final.test == 1].is_signed_up,\n",
    "    experiment_data_final[experiment_data_final.test == 0].is_signed_up)"
   ]
  },
  {
   "cell_type": "markdown",
   "metadata": {},
   "source": [
    "Well hey now. This experiment got very significant after allowing for more time. (It's almost like someone made it that way.) Why don't you create some visualizations to tell the story of the effect of the new email?\n",
    "\n",
    "**Write your code in the cell below:**"
   ]
  },
  {
   "cell_type": "code",
   "execution_count": 133,
   "metadata": {},
   "outputs": [
    {
     "data": {
      "text/plain": [
       "0    46867\n",
       "1    19861\n",
       "Name: test, dtype: int64"
      ]
     },
     "execution_count": 133,
     "metadata": {},
     "output_type": "execute_result"
    }
   ],
   "source": [
    "# Your code here.\n",
    "experiment_data_final.test.value_counts()"
   ]
  },
  {
   "cell_type": "code",
   "execution_count": 178,
   "metadata": {},
   "outputs": [
    {
     "data": {
      "text/plain": [
       "<function matplotlib.pyplot.show>"
      ]
     },
     "execution_count": 178,
     "metadata": {},
     "output_type": "execute_result"
    },
    {
     "data": {
      "image/png": "[encoded data removed]",
      "text/plain": [
       "<matplotlib.figure.Figure at 0x11b3ae358>"
      ]
     },
     "metadata": {},
     "output_type": "display_data"
    }
   ],
   "source": [
    "test_group = experiment_data_final[experiment_data_final.test == 1]\n",
    "control_group = experiment_data_final[experiment_data_final.test == 0]\n",
    "\n",
    "sns.stripplot(x = 'is_signed_up', y = test_group.index, data = test_group, jitter = True)\n",
    "plt.show"
   ]
  },
  {
   "cell_type": "code",
   "execution_count": 198,
   "metadata": {},
   "outputs": [
    {
     "name": "stdout",
     "output_type": "stream",
     "text": [
      "The Standard Deviation is: 0.4283742745407664\n",
      "Before, the Standard Deviation was: 0.34385862033063674\n"
     ]
    },
    {
     "data": {
      "image/png": "[encoded data removed]",
      "text/plain": [
       "<matplotlib.figure.Figure at 0x1181beeb8>"
      ]
     },
     "metadata": {},
     "output_type": "display_data"
    }
   ],
   "source": [
    "sns.countplot(x = test_group.is_signed_up, data = test_group)\n",
    "print('The Standard Deviation is:', np.std(test_group.is_signed_up))\n",
    "print('Before, the Standard Deviation was:', np.std(test_group1.is_signed_up))"
   ]
  },
  {
   "cell_type": "markdown",
   "metadata": {},
   "source": [
    "Great! So what are the conclusions from this experiment?\n",
    "\n",
    "The new email seems to be a significant improvement on the old email, but at a slower rate of conversion. So as long as BlueBird isn't desperate for signups in the next few days, the change seems worth it. In this case, however, it would also be worth working with the advertising and engineering teams to see if you could figure out why conversation was slower for the test email. That could inform whether the effect might change over time."
   ]
  },
  {
   "cell_type": "markdown",
   "metadata": {},
   "source": [
    "\n",
    "## Conclusions\n",
    "\n",
    "This analysis, while comprehensive, is not exhaustive. There are plenty of more topics and dimensions that could be explored. Talk with your mentor about how you might expand this experiment or other dimensions you may want to investigate.\n"
   ]
  },
  {
   "cell_type": "markdown",
   "metadata": {},
   "source": [
    "\n",
    "One last thing. It's worth having an additional note on t-testing here again. We used a t-test in this exercise, but we could actually use a different test to gain a bit more power. Because the sample is a proportion, we know more about their distributions than the t-test assumes. Specifically, the distribution of the mean is normal, meaning we could use something called a two sample proportional z-test. We haven't covered this test yet, but you can read about it [here](https://onlinecourses.science.psu.edu/stat414/node/268). Find a python implementation for this test and go back and revise our testing. What difference does our new test make?"
   ]
  }
 ],
 "metadata": {
  "hide_input": false,
  "kernelspec": {
   "display_name": "Python 3",
   "language": "python",
   "name": "python3"
  },
  "language_info": {
   "codemirror_mode": {
    "name": "ipython",
    "version": 3
   },
   "file_extension": ".py",
   "mimetype": "text/x-python",
   "name": "python",
   "nbconvert_exporter": "python",
   "pygments_lexer": "ipython3",
   "version": "3.6.2"
  }
 },
 "nbformat": 4,
 "nbformat_minor": 2
}
