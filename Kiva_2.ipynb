{
 "cells": [
  {
   "cell_type": "markdown",
   "metadata": {},
   "source": [
    "## Kiva Dataset: Feature Engineering\n",
    "\n",
    "I thought it would be interesting to dig deeper into this dataset and try out some feature engineering with it.  I also wanted to look at something more impactful this time around."
   ]
  },
  {
   "cell_type": "code",
   "execution_count": 1,
   "metadata": {
    "collapsed": true
   },
   "outputs": [],
   "source": [
    "import numpy as np\n",
    "import pandas as pd\n",
    "import seaborn as sns\n",
    "import matplotlib as mpl\n",
    "import matplotlib.pyplot as plt\n",
    "import pendulum as pend\n",
    "import datetime\n",
    "%matplotlib inline"
   ]
  },
  {
   "cell_type": "code",
   "execution_count": 2,
   "metadata": {
    "collapsed": true
   },
   "outputs": [],
   "source": [
    "# Importing the frames:\n",
    "\n",
    "main = pd.read_csv('kiva_loans.csv').drop(['country_code', 'tags', 'date'], axis = 1).copy()\n",
    "mpi = pd.read_csv('kiva_mpi_region_locations.csv').drop(['ISO', 'lat', 'lon'], axis = 1).copy()\n",
    "sector = pd.read_csv('loan_theme_ids.csv')\n",
    "region_themes = pd.read_csv('loan_themes_by_region.csv').drop(['forkiva', 'geocode_old', 'ISO',\n",
    "                                                              'names', 'geocode', 'rural_pct', 'mpi_geo', \n",
    "                                                               'lat', 'lon'], axis = 1).copy()"
   ]
  },
  {
   "cell_type": "code",
   "execution_count": 3,
   "metadata": {
    "collapsed": true
   },
   "outputs": [],
   "source": [
    "# Renaming some columns for workability:\n",
    "\n",
    "region_themes.rename(columns = ({'Partner ID' : 'Partner_ID',\n",
    "                                 'Field Partner Name' : 'Field_Partner_Name',\n",
    "                                 'Loan Theme Id' : 'Loan_Theme_ID',\n",
    "                                 'Loan Theme Type' : 'Loan_Theme_Type'}), inplace = True)"
   ]
  },
  {
   "cell_type": "code",
   "execution_count": 4,
   "metadata": {
    "collapsed": true
   },
   "outputs": [],
   "source": [
    "# DateTime wrangling:\n",
    "\n",
    "main['posted_time'] = pd.to_datetime(main['posted_time'], format = '%Y-%m-%d %H:%M:%S')\n",
    "main['disbursed_time'] = pd.to_datetime(main['disbursed_time'], format = '%Y-%m-%d %H:%M:%S')\n",
    "main['funded_time'] = pd.to_datetime(main['funded_time'], format = '%Y-%m-%d %H:%M:%S')"
   ]
  },
  {
   "cell_type": "markdown",
   "metadata": {},
   "source": [
    "### Univariate Data Exploration:"
   ]
  },
  {
   "cell_type": "code",
   "execution_count": 5,
   "metadata": {},
   "outputs": [
    {
     "data": {
      "text/html": [
       "<div>\n",
       "<style scoped>\n",
       "    .dataframe tbody tr th:only-of-type {\n",
       "        vertical-align: middle;\n",
       "    }\n",
       "\n",
       "    .dataframe tbody tr th {\n",
       "        vertical-align: top;\n",
       "    }\n",
       "\n",
       "    .dataframe thead th {\n",
       "        text-align: right;\n",
       "    }\n",
       "</style>\n",
       "<table border=\"1\" class=\"dataframe\">\n",
       "  <thead>\n",
       "    <tr style=\"text-align: right;\">\n",
       "      <th></th>\n",
       "      <th>Partner_ID</th>\n",
       "      <th>number</th>\n",
       "      <th>amount</th>\n",
       "    </tr>\n",
       "  </thead>\n",
       "  <tbody>\n",
       "    <tr>\n",
       "      <th>count</th>\n",
       "      <td>15736.000000</td>\n",
       "      <td>15736.000000</td>\n",
       "      <td>1.573600e+04</td>\n",
       "    </tr>\n",
       "    <tr>\n",
       "      <th>mean</th>\n",
       "      <td>191.376144</td>\n",
       "      <td>53.628432</td>\n",
       "      <td>2.003991e+04</td>\n",
       "    </tr>\n",
       "    <tr>\n",
       "      <th>std</th>\n",
       "      <td>118.705003</td>\n",
       "      <td>403.079799</td>\n",
       "      <td>9.636941e+04</td>\n",
       "    </tr>\n",
       "    <tr>\n",
       "      <th>min</th>\n",
       "      <td>9.000000</td>\n",
       "      <td>1.000000</td>\n",
       "      <td>2.500000e+01</td>\n",
       "    </tr>\n",
       "    <tr>\n",
       "      <th>25%</th>\n",
       "      <td>123.000000</td>\n",
       "      <td>1.000000</td>\n",
       "      <td>9.500000e+02</td>\n",
       "    </tr>\n",
       "    <tr>\n",
       "      <th>50%</th>\n",
       "      <td>154.000000</td>\n",
       "      <td>4.000000</td>\n",
       "      <td>2.600000e+03</td>\n",
       "    </tr>\n",
       "    <tr>\n",
       "      <th>75%</th>\n",
       "      <td>217.000000</td>\n",
       "      <td>15.000000</td>\n",
       "      <td>8.750000e+03</td>\n",
       "    </tr>\n",
       "    <tr>\n",
       "      <th>max</th>\n",
       "      <td>545.000000</td>\n",
       "      <td>22538.000000</td>\n",
       "      <td>4.929900e+06</td>\n",
       "    </tr>\n",
       "  </tbody>\n",
       "</table>\n",
       "</div>"
      ],
      "text/plain": [
       "         Partner_ID        number        amount\n",
       "count  15736.000000  15736.000000  1.573600e+04\n",
       "mean     191.376144     53.628432  2.003991e+04\n",
       "std      118.705003    403.079799  9.636941e+04\n",
       "min        9.000000      1.000000  2.500000e+01\n",
       "25%      123.000000      1.000000  9.500000e+02\n",
       "50%      154.000000      4.000000  2.600000e+03\n",
       "75%      217.000000     15.000000  8.750000e+03\n",
       "max      545.000000  22538.000000  4.929900e+06"
      ]
     },
     "execution_count": 5,
     "metadata": {},
     "output_type": "execute_result"
    }
   ],
   "source": [
    "# Looked at some big-picture overviews of the dfs:\n",
    "\n",
    "main.describe()\n",
    "main.shape\n",
    "region_themes.describe()"
   ]
  },
  {
   "cell_type": "code",
   "execution_count": 6,
   "metadata": {},
   "outputs": [
    {
     "data": {
      "text/plain": [
       "Partner_ID             0\n",
       "Field_Partner_Name     0\n",
       "sector                 0\n",
       "Loan Theme ID          0\n",
       "Loan_Theme_Type        0\n",
       "country                0\n",
       "region                 0\n",
       "number                 0\n",
       "amount                 0\n",
       "LocationName           0\n",
       "geo                    0\n",
       "mpi_region            14\n",
       "dtype: int64"
      ]
     },
     "execution_count": 6,
     "metadata": {},
     "output_type": "execute_result"
    }
   ],
   "source": [
    "# Took a look at null values:\n",
    "\n",
    "main.isnull().sum()\n",
    "region_themes.isnull().sum()"
   ]
  },
  {
   "cell_type": "markdown",
   "metadata": {},
   "source": [
    "The main df has a fair amount of null values, but the category with the highest null value is only 8% of the whole dataset, so I am assuming it is safe to drop some (perhaps after merging datasets so as not to increase the amount of lost data).\n",
    "\n",
    "Based on this first exploration, it looks like the dataset has more categorical variables than continuous variables.  It seems, however, that by combining some of these groups, you could engineer some more continuous variables (i.e. difference between loan amount and funded amount / average amount per partner id), etc.   Based on the correlation maps above, it looks like it will take some engineering to create some more continuous variables to find where the correlations are hiding."
   ]
  },
  {
   "cell_type": "markdown",
   "metadata": {},
   "source": [
    "### Bivariate explorations:"
   ]
  },
  {
   "cell_type": "code",
   "execution_count": 7,
   "metadata": {
    "collapsed": true
   },
   "outputs": [],
   "source": [
    "# Making some grouping functions:\n",
    "\n",
    "def count_function(dataframe, column1):\n",
    "    return dataframe.groupby(column1).agg('count')\n",
    "\n",
    "def group_agg_function(dataframe, column1, column2, agg_function):\n",
    "    return dataframe.groupby(column1)[column2].agg(agg_function)\n",
    "\n",
    "def avg_time_toloan(column1, column2):\n",
    "    return main.groupby(column1)[column2].agg(lambda x: x.mean())"
   ]
  },
  {
   "cell_type": "code",
   "execution_count": 8,
   "metadata": {
    "collapsed": true
   },
   "outputs": [],
   "source": [
    "# Isolating data by Country:\n",
    "\n",
    "ctry_amts = main.groupby('country').agg({'country': ['count'],\n",
    "                                         'loan_amount': ['mean'],\n",
    "                                         'funded_amount': ['mean'],\n",
    "                                         'term_in_months': ['mean']})\n",
    "\n",
    "# Isolating data by partner_id:\n",
    "\n",
    "partner_sectors = group_agg_function(main, 'partner_id', 'sector', 'count')\n",
    "partner_layout = main.groupby('partner_id').agg({'loan_amount': ['mean'],\n",
    "                                                 'funded_amount': ['mean']})\n",
    "partner_groups = main.groupby('partner_id').agg('count')\n",
    "\n",
    "\n",
    "# Isolating data by sector:\n",
    "\n",
    "sector_layout = main.groupby('sector').agg({'loan_amount': ['mean'],\n",
    "                            'funded_amount': ['mean']})\n",
    "\n",
    "sector2 = main.groupby('sector').agg({'sector': ['count'],\n",
    "                                         'loan_amount': ['mean'],\n",
    "                                         'funded_amount': ['mean'],\n",
    "                                         'term_in_months': ['mean']})\n",
    "\n",
    "# Isolating region/mpi data:\n",
    "\n",
    "fieldpartner_loantype = region_themes.groupby('Field_Partner_Name')['Loan_Theme_Type'].agg('count')\n",
    "fieldpartner_layout = region_themes.groupby('Field_Partner_Name').agg({'sector': ['count'],\n",
    "                                                                       'number': ['mean'],\n",
    "                                                                       'amount': ['mean']})\n",
    "\n",
    "# Broader aggregates for a larger overview:\n",
    "\n",
    "region_loanthemes = region_themes.groupby('Loan_Theme_Type').agg({'number':['mean'],\n",
    "                                                                  'amount':['mean']})\n",
    "fieldpartner_amt = group_agg_function(region_themes, 'Field_Partner_Name', 'amount', 'mean')\n"
   ]
  },
  {
   "cell_type": "markdown",
   "metadata": {
    "collapsed": true
   },
   "source": [
    "## Making Some Features:\n",
    "\n",
    "If our goal is to find the Field Partners who are most efficient at obtaining funding for their borrowers for each continent, one of the indicators could be their ability to get a loan fully funded in a short period of time.  As such, our outcome variable will be the time-difference between 'funded_time' and 'posted_time'. We will label this as 'funding_window.'  We will also sift out a few more variables which might be helpful for further study/building upon the current outcome variable."
   ]
  },
  {
   "cell_type": "code",
   "execution_count": 9,
   "metadata": {},
   "outputs": [],
   "source": [
    "# Making new features for future modeling:\n",
    "\n",
    "main['funding_window'] = main['funded_time'] - main['posted_time']\n",
    "main['dspmt_to_fndg'] = main['funded_time'] - main['disbursed_time']\n",
    "main['fndg_loan_dif'] = main['funded_amount'] - main['loan_amount']\n",
    "main['fnd_dollars/lender'] = main['funded_amount'] / main['lender_count']\n",
    "\n",
    "# main['funding_window'] = pd.to_datetime(main['posted_time'], format = '%Y-%m-%d %H:%M:%S')\n",
    "# main['dspmt_to_fndg'] = pd.to_datetime(main['posted_time'], format = '%Y-%m-%d %H:%M:%S')"
   ]
  },
  {
   "cell_type": "code",
   "execution_count": 10,
   "metadata": {},
   "outputs": [],
   "source": [
    "# Finding some averages to continue making some new columns:\n",
    "\n",
    "funded_avg = main['funded_amount'].mean()\n",
    "loan_avg = main['loan_amount'].mean()\n",
    "fnd_dif_avg = main['fndg_loan_dif'].mean()\n",
    "fnd_time_avg = main['funding_window'].mean()\n",
    "fnd_time_avg2 = main['funding_window'].mean().days"
   ]
  },
  {
   "cell_type": "code",
   "execution_count": 11,
   "metadata": {},
   "outputs": [],
   "source": [
    "# making some more columns to both the main and region_themes dataframes\n",
    "\n",
    "main['funded_pct'] = main['funded_amount'] / funded_avg\n",
    "main['fnding_time_pct'] = main['funding_window'] / fnd_time_avg2\n",
    "\n",
    "sector2['funded_pct'] = sector2['funded_amount'] / funded_avg\n",
    "sector2['loan_pct'] = sector2['loan_amount'] / loan_avg\n",
    "\n",
    "region_themes['funded_pct'] = region_themes['amount'] / funded_avg\n",
    "\n"
   ]
  },
  {
   "cell_type": "code",
   "execution_count": 12,
   "metadata": {},
   "outputs": [
    {
     "data": {
      "image/png": "[encoded data removed]",
      "text/plain": [
       "<matplotlib.figure.Figure at 0x11daefa20>"
      ]
     },
     "metadata": {},
     "output_type": "display_data"
    }
   ],
   "source": [
    "fig, ax = plt.subplots(figsize=(12,8))\n",
    "sns.heatmap(main.corr(), annot = True)\n",
    "plt.show()"
   ]
  },
  {
   "cell_type": "code",
   "execution_count": null,
   "metadata": {},
   "outputs": [],
   "source": []
  },
  {
   "cell_type": "code",
   "execution_count": null,
   "metadata": {},
   "outputs": [],
   "source": []
  },
  {
   "cell_type": "code",
   "execution_count": null,
   "metadata": {},
   "outputs": [],
   "source": []
  },
  {
   "cell_type": "code",
   "execution_count": null,
   "metadata": {
    "collapsed": true
   },
   "outputs": [],
   "source": []
  }
 ],
 "metadata": {
  "kernelspec": {
   "display_name": "Python 3",
   "language": "python",
   "name": "python3"
  },
  "language_info": {
   "codemirror_mode": {
    "name": "ipython",
    "version": 3
   },
   "file_extension": ".py",
   "mimetype": "text/x-python",
   "name": "python",
   "nbconvert_exporter": "python",
   "pygments_lexer": "ipython3",
   "version": "3.6.2"
  }
 },
 "nbformat": 4,
 "nbformat_minor": 2
}
